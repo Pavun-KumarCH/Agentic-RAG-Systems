{
  "nbformat": 4,
  "nbformat_minor": 0,
  "metadata": {
    "colab": {
      "provenance": [],
      "authorship_tag": "ABX9TyPGTtoZ5Cr6BA5JStEUx91F",
      "include_colab_link": true
    },
    "kernelspec": {
      "name": "python3",
      "display_name": "Python 3"
    },
    "language_info": {
      "name": "python"
    }
  },
  "cells": [
    {
      "cell_type": "markdown",
      "metadata": {
        "id": "view-in-github",
        "colab_type": "text"
      },
      "source": [
        "<a href=\"https://colab.research.google.com/github/Pavun-KumarCH/Agentic-RAG-Systems/blob/main/Llama_Index_ReAct_Agent.ipynb\" target=\"_parent\"><img src=\"https://colab.research.google.com/assets/colab-badge.svg\" alt=\"Open In Colab\"/></a>"
      ]
    },
    {
      "cell_type": "markdown",
      "source": [
        "## Roadmap\n",
        "\n",
        "Part-4 This video focus:\n",
        "\n",
        "- Function Calling Agents + Agent Runner\n",
        "- Agentic RAG\n",
        "- Project - ReACT Agent: Building a Search Assistant Agent\n"
      ],
      "metadata": {
        "id": "TM_OYZBwb34q"
      }
    },
    {
      "cell_type": "code",
      "execution_count": 1,
      "metadata": {
        "colab": {
          "base_uri": "https://localhost:8080/"
        },
        "id": "5ndMSiAtbsf6",
        "outputId": "105a3aff-e06c-48ec-d5bb-227a9e015567"
      },
      "outputs": [
        {
          "output_type": "stream",
          "name": "stdout",
          "text": [
            "\u001b[2K   \u001b[90m━━━━━━━━━━━━━━━━━━━━━━━━━━━━━━━━━━━━━━━━\u001b[0m \u001b[32m1.6/1.6 MB\u001b[0m \u001b[31m22.3 MB/s\u001b[0m eta \u001b[36m0:00:00\u001b[0m\n",
            "\u001b[2K   \u001b[90m━━━━━━━━━━━━━━━━━━━━━━━━━━━━━━━━━━━━━━━━\u001b[0m \u001b[32m3.0/3.0 MB\u001b[0m \u001b[31m47.8 MB/s\u001b[0m eta \u001b[36m0:00:00\u001b[0m\n",
            "\u001b[2K   \u001b[90m━━━━━━━━━━━━━━━━━━━━━━━━━━━━━━━━━━━━━━━━\u001b[0m \u001b[32m195.8/195.8 kB\u001b[0m \u001b[31m13.8 MB/s\u001b[0m eta \u001b[36m0:00:00\u001b[0m\n",
            "\u001b[2K   \u001b[90m━━━━━━━━━━━━━━━━━━━━━━━━━━━━━━━━━━━━━━━━\u001b[0m \u001b[32m454.3/454.3 kB\u001b[0m \u001b[31m20.8 MB/s\u001b[0m eta \u001b[36m0:00:00\u001b[0m\n",
            "\u001b[2K   \u001b[90m━━━━━━━━━━━━━━━━━━━━━━━━━━━━━━━━━━━━━━━━\u001b[0m \u001b[32m298.0/298.0 kB\u001b[0m \u001b[31m16.4 MB/s\u001b[0m eta \u001b[36m0:00:00\u001b[0m\n",
            "\u001b[2K   \u001b[90m━━━━━━━━━━━━━━━━━━━━━━━━━━━━━━━━━━━━━━━━\u001b[0m \u001b[32m1.2/1.2 MB\u001b[0m \u001b[31m29.1 MB/s\u001b[0m eta \u001b[36m0:00:00\u001b[0m\n",
            "\u001b[2K   \u001b[90m━━━━━━━━━━━━━━━━━━━━━━━━━━━━━━━━━━━━━━━━\u001b[0m \u001b[32m49.3/49.3 kB\u001b[0m \u001b[31m3.1 MB/s\u001b[0m eta \u001b[36m0:00:00\u001b[0m\n",
            "\u001b[2K   \u001b[90m━━━━━━━━━━━━━━━━━━━━━━━━━━━━━━━━━━━━━━━━\u001b[0m \u001b[32m260.0/260.0 kB\u001b[0m \u001b[31m7.9 MB/s\u001b[0m eta \u001b[36m0:00:00\u001b[0m\n",
            "\u001b[2K   \u001b[90m━━━━━━━━━━━━━━━━━━━━━━━━━━━━━━━━━━━━━━━━\u001b[0m \u001b[32m76.4/76.4 kB\u001b[0m \u001b[31m5.6 MB/s\u001b[0m eta \u001b[36m0:00:00\u001b[0m\n",
            "\u001b[?25h"
          ]
        }
      ],
      "source": [
        "#@title requirements\n",
        "%pip install --q llama-index duckduckgo-search\n",
        "%pip install --q llama-index-llms-mistralai llama-index-embeddings-mistralai"
      ]
    },
    {
      "cell_type": "code",
      "source": [
        "#@title Function Calling\n",
        "import nest_asyncio, os\n",
        "from duckduckgo_search import DDGS\n",
        "from llama_index.core.tools import FunctionTool\n",
        "from llama_index.llms.mistralai import MistralAI\n",
        "from llama_index.embeddings.mistralai import MistralAIEmbedding # Agentic RAG\n",
        "\n",
        "nest_asyncio.apply()"
      ],
      "metadata": {
        "id": "DQm68eRQcWu5"
      },
      "execution_count": 2,
      "outputs": []
    },
    {
      "cell_type": "code",
      "source": [
        "#@title Creating function tools for search\n",
        "\n",
        "def search(query:str) -> str:\n",
        "  \"\"\"\n",
        "  Args:\n",
        "      query: user prompt\n",
        "  return:\n",
        "  context (str): search results to the user query\n",
        "  \"\"\"\n",
        "\n",
        "  req = DDGS()\n",
        "  response = req.text(query, max_results =4)\n",
        "  context = \"\"\n",
        "  for result in response:\n",
        "    context += result['body']\n",
        "  return context\n",
        "\n",
        "search_tool = FunctionTool.from_defaults(fn = search)"
      ],
      "metadata": {
        "id": "p6cDfe8Sc-N_"
      },
      "execution_count": 3,
      "outputs": []
    },
    {
      "cell_type": "code",
      "source": [
        "#@title Setup the Model\n",
        "from google.colab import userdata\n",
        "from llama_index.core import Settings\n",
        "\n",
        "mistral_api = userdata.get(\"MISTRALAI_API_KEY\")\n",
        "llm = MistralAI(model = \"mistral-large-latest\", api_key = mistral_api)\n",
        "embed_model = MistralAIEmbedding(model = \"mistral-embed\", api_key = mistral_api)\n",
        "\n",
        "Settings.llm = llm\n",
        "Settings.embed_model = embed_model"
      ],
      "metadata": {
        "id": "f9hbSsZ6eDOU"
      },
      "execution_count": 4,
      "outputs": []
    },
    {
      "cell_type": "code",
      "source": [
        "#@title testing llm-api\n",
        "llm.complete(\"tell me about AI ?\").text"
      ],
      "metadata": {
        "colab": {
          "base_uri": "https://localhost:8080/",
          "height": 105
        },
        "id": "p2jXKPu2h_0r",
        "outputId": "cfbc0e20-1b7c-40ec-f2ae-55d9eefbfada"
      },
      "execution_count": 5,
      "outputs": [
        {
          "output_type": "execute_result",
          "data": {
            "text/plain": [
              "'Artificial Intelligence (AI) is a broad field of computer science dedicated to creating systems that can perform tasks that typically require human intelligence. These tasks include learning, reasoning, problem-solving, perception, and language understanding. AI can be categorized into several types, each with different capabilities and applications:\\n\\n1. **Narrow or Weak AI**: Designed to perform a narrow task (e.g., facial recognition, internet searches, or driving a car).\\n\\n2. **General or Strong AI**: Hypothetical AI that possesses the ability to understand, learn, and apply knowledge across various tasks at a level equal to or beyond human capabilities. This type of AI does not yet exist.\\n\\n3. **Superintelligent AI**: A hypothetical AI that surpasses human intelligence in every economically valuable work. This is still a conceptual idea and not a reality.\\n\\n### Key Components of AI\\n\\n1. **Machine Learning (ML)**: A subset of AI that involves training algorithms to learn from data and make predictions or decisions without being explicitly programmed.\\n\\n2. **Deep Learning**: A subset of machine learning that uses neural networks with many layers to model complex patterns in data.\\n\\n3. **Natural Language Processing (NLP)**: The ability of a computer to understand, interpret, and generate human language.\\n\\n4. **Computer Vision**: The ability of a computer to interpret and make decisions based on visual input from the world.\\n\\n5. **Robotics**: The design and use of robots to perform tasks that are typically done by humans.\\n\\n### Applications of AI\\n\\n1. **Healthcare**: Diagnosing diseases, developing new drugs, and personalizing treatment plans.\\n2. **Finance**: Fraud detection, algorithmic trading, and risk management.\\n3. **Transportation**: Autonomous vehicles, traffic management, and route optimization.\\n4. **Customer Service**: Chatbots, virtual assistants, and personalized recommendations.\\n5. **Entertainment**: Game development, content creation, and personalized media experiences.\\n6. **Manufacturing**: Predictive maintenance, quality control, and supply chain optimization.\\n\\n### Ethical Considerations\\n\\n1. **Bias and Fairness**: Ensuring that AI systems do not perpetuate or amplify existing biases.\\n2. **Privacy'"
            ],
            "application/vnd.google.colaboratory.intrinsic+json": {
              "type": "string"
            }
          },
          "metadata": {},
          "execution_count": 5
        }
      ]
    },
    {
      "cell_type": "code",
      "source": [
        "query = \"Who was the Man of the Series in India vs Bangalesh 2024 Test Match ?\""
      ],
      "metadata": {
        "id": "jBY8TE1sd6zP"
      },
      "execution_count": 6,
      "outputs": []
    },
    {
      "cell_type": "code",
      "source": [
        "function_call = llm.predict_and_call(tools = [search_tool],\n",
        "                                     user_msg = query,\n",
        "                                     allow_parallel_tool_calls = True)\n"
      ],
      "metadata": {
        "id": "uL6hnmD2fYCk"
      },
      "execution_count": 7,
      "outputs": []
    },
    {
      "cell_type": "code",
      "source": [
        "type(function_call)"
      ],
      "metadata": {
        "colab": {
          "base_uri": "https://localhost:8080/"
        },
        "id": "9sQTNmyZhXni",
        "outputId": "5d395ce7-75e1-4301-b1e1-eab093dbcbb6"
      },
      "execution_count": 8,
      "outputs": [
        {
          "output_type": "execute_result",
          "data": {
            "text/plain": [
              "llama_index.core.chat_engine.types.AgentChatResponse"
            ]
          },
          "metadata": {},
          "execution_count": 8
        }
      ]
    },
    {
      "cell_type": "markdown",
      "source": [],
      "metadata": {
        "id": "Pcb6-SPVhsp3"
      }
    },
    {
      "cell_type": "code",
      "source": [
        "function_call.response"
      ],
      "metadata": {
        "colab": {
          "base_uri": "https://localhost:8080/",
          "height": 105
        },
        "id": "wh-ZKE_hhaR2",
        "outputId": "809d6749-a76f-49c1-b880-41ff8087f26e"
      },
      "execution_count": 9,
      "outputs": [
        {
          "output_type": "execute_result",
          "data": {
            "text/plain": [
              "\"Ravichandran Ashwin 's impressive performance with both bat and ball in the two-match India vs Bangladesh Test 2024 series won him the Player of the Series award. The all-rounder had a tally of 11 wickets and 114 runs from the two matches that saw him win the coveted award for the 11th time in his Test career.The 312 balls India batted for in this Test is the second-fewest they have faced - and the fourth-fewest overall - to win a Test match, behind the 281 against South Africa in Cape Town earlier ...IND vs BDESH 2024/25, India vs Bangladesh Match Report: Bangladesh captain Najmul Hossain Shanto's 82 kept the bowling at bay, but Ashwin and Ravindra Jadeja shared nine wicketsIndia vs Bangladesh test series 2024 will start on September 19. The Indian cricket team will begin their 2024-25 home season with a two-match test series against Bangladesh.It will be India's first test series at home since their victory over England earlier this year.\""
            ],
            "application/vnd.google.colaboratory.intrinsic+json": {
              "type": "string"
            }
          },
          "metadata": {},
          "execution_count": 9
        }
      ]
    },
    {
      "cell_type": "markdown",
      "source": [
        "# Second Approach for Function Calling Agent\n",
        " * Function Calling Agent Worker"
      ],
      "metadata": {
        "id": "KaCmKdzPihOC"
      }
    },
    {
      "cell_type": "code",
      "source": [
        "from llama_index.core.agent import FunctionCallingAgent, FunctionCallingAgentWorker"
      ],
      "metadata": {
        "id": "vyc9r5IKhc95"
      },
      "execution_count": 10,
      "outputs": []
    },
    {
      "cell_type": "code",
      "source": [
        "agent = FunctionCallingAgent.from_tools(tools = [search_tool],\n",
        "                                        llm = llm,\n",
        "                                        verbose = True,\n",
        "                                        allow_parallel_tool_calls = True)"
      ],
      "metadata": {
        "id": "UqGxOpB9i3Dp"
      },
      "execution_count": 11,
      "outputs": []
    },
    {
      "cell_type": "code",
      "source": [
        "response = agent.chat(query)"
      ],
      "metadata": {
        "colab": {
          "base_uri": "https://localhost:8080/"
        },
        "id": "eV8p4DOJjCs-",
        "outputId": "e9c6b017-eb1f-4a8e-8a60-decaebd66993"
      },
      "execution_count": 35,
      "outputs": [
        {
          "output_type": "stream",
          "name": "stdout",
          "text": [
            "> Running step f1ac2dde-d0f4-4469-8a2e-f0e7494e0d00. Step input: Who was the Man of the Series in India vs Bangalesh 2024 Test Match ?\n",
            "\u001b[1;3;38;5;200mThought: The current language of the user is: English. I need to use a tool to help me answer the question.\n",
            "Action: search\n",
            "Action Input: {'query': 'Man of the Series in India vs Bangalesh 2024 Test Match'}\n",
            "\u001b[0m\u001b[1;3;34mObservation: IND vs BDESH 2024/25, India vs Bangladesh Match Report: Jaiswal scored twin fifties as India registered a remarkable win despite two days of no play due to rain in Kanpur Matches ( 12 ) SA vs PAK ...Ravichandran Ashwin 's impressive performance with both bat and ball in the two-match India vs Bangladesh Test 2024 series won him the Player of the Series award. The all-rounder had a tally of 11 wickets and 114 runs from the two matches that saw him win the coveted award for the 11th time in his Test career.India vs Bangladesh test series 2024 will start on September 19. The Indian cricket team will begin their 2024-25 home season with a two-match test series against Bangladesh.It will be India's first test series at home since their victory over England earlier this year.World No. 1 Test bowler Ravichandran Ashwin equalled legendary Sri Lankan spinner Muttiah Muralitharan's record of most Player of the Series award in Test cricket's history on Tuesday (October 1) by winning his 11th top prize. Ashwin was named as the best player of the two-match Test series played between India and Bangladesh.\n",
            "\u001b[0m> Running step 182d0c0d-030c-47c4-bc5f-333d8ed2723a. Step input: None\n",
            "\u001b[1;3;38;5;200mThought: I can answer without using any more tools. I'll use the user's language to answer\n",
            "Answer: Ravichandran Ashwin was the Man of the Series in the India vs Bangladesh 2024 Test Match.\n",
            "\u001b[0m"
          ]
        }
      ]
    },
    {
      "cell_type": "code",
      "source": [
        "print(response)"
      ],
      "metadata": {
        "colab": {
          "base_uri": "https://localhost:8080/"
        },
        "id": "GgJv4N90klPm",
        "outputId": "77ef282d-3e82-4973-e2c2-c9d249ab3a05"
      },
      "execution_count": 36,
      "outputs": [
        {
          "output_type": "stream",
          "name": "stdout",
          "text": [
            "Ravichandran Ashwin was the Man of the Series in the India vs Bangladesh 2024 Test Match.\n"
          ]
        }
      ]
    },
    {
      "cell_type": "markdown",
      "source": [
        "# Third Approach and the Recommended one : Agent Runner"
      ],
      "metadata": {
        "id": "dUyDr29xkq9w"
      }
    },
    {
      "cell_type": "code",
      "source": [
        "from llama_index.core.agent import AgentRunner\n",
        "\n",
        "agent_worker = FunctionCallingAgentWorker.from_tools(\n",
        "    tools = [search_tool],\n",
        "    llm = llm,\n",
        "    verbose = True,\n",
        "    allow_parallel_tool_calls = True\n",
        ")\n",
        "\n",
        "agent_runner = AgentRunner(agent_worker)"
      ],
      "metadata": {
        "id": "jIOvKObGknQp"
      },
      "execution_count": 13,
      "outputs": []
    },
    {
      "cell_type": "code",
      "source": [
        "runner_response = agent_runner.query(query)"
      ],
      "metadata": {
        "colab": {
          "base_uri": "https://localhost:8080/"
        },
        "id": "2cQBNO8rlM4L",
        "outputId": "eeb5e3b4-e7c0-4e6f-b414-34d63806a3a6"
      },
      "execution_count": 14,
      "outputs": [
        {
          "output_type": "stream",
          "name": "stdout",
          "text": [
            "Added user message to memory: Who was the Man of the Series in India vs Bangalesh 2024 Test Match ?\n",
            "=== Calling Function ===\n",
            "Calling function: search with args: {\"query\": \"Man of the Series in India vs Bangladesh 2024 Test Match\"}\n",
            "=== Function Output ===\n",
            "Encountered error: https://links.duckduckgo.com/d.js?q=Man+of+the+Series+in+India+vs+Bangladesh+2024+Test+Match&kl=wt-wt&l=wt-wt&p=&s=0&df=&vqd=4-319446967560055003477974472944591774902&bing_market=wt-WT&ex=-1 202 Ratelimit\n",
            "=== LLM Response ===\n",
            "I apologize, but I couldn't retrieve the information about the Man of the Series in the India vs Bangladesh 2024 Test Match. Please try again later or check the latest updates from reliable sports news sources.\n"
          ]
        }
      ]
    },
    {
      "cell_type": "code",
      "source": [
        "runner_response.response"
      ],
      "metadata": {
        "colab": {
          "base_uri": "https://localhost:8080/",
          "height": 35
        },
        "id": "iR1fJT--lP3W",
        "outputId": "c49566cb-93a6-404d-d43a-7061af202c90"
      },
      "execution_count": 15,
      "outputs": [
        {
          "output_type": "execute_result",
          "data": {
            "text/plain": [
              "\"I apologize, but I couldn't retrieve the information about the Man of the Series in the India vs Bangladesh 2024 Test Match. Please try again later or check the latest updates from reliable sports news sources.\""
            ],
            "application/vnd.google.colaboratory.intrinsic+json": {
              "type": "string"
            }
          },
          "metadata": {},
          "execution_count": 15
        }
      ]
    },
    {
      "cell_type": "code",
      "source": [
        "# you can also use chat to get response\n",
        "runner_chat = agent_runner.chat(query)"
      ],
      "metadata": {
        "colab": {
          "base_uri": "https://localhost:8080/"
        },
        "id": "et_k5ldVlXhS",
        "outputId": "15535581-c8b3-417c-db67-f47ea6a6a616"
      },
      "execution_count": 16,
      "outputs": [
        {
          "output_type": "stream",
          "name": "stdout",
          "text": [
            "Added user message to memory: Who was the Man of the Series in India vs Bangalesh 2024 Test Match ?\n",
            "=== Calling Function ===\n",
            "Calling function: search with args: {\"query\": \"Man of the Series in India vs Bangladesh 2024 Test Match\"}\n",
            "=== Function Output ===\n",
            "Ravichandran Ashwin 's impressive performance with both bat and ball in the two-match India vs Bangladesh Test 2024 series won him the Player of the Series award. The all-rounder had a tally of 11 wickets and 114 runs from the two matches that saw him win the coveted award for the 11th time in his Test career.The 312 balls India batted for in this Test is the second-fewest they have faced - and the fourth-fewest overall - to win a Test match, behind the 281 against South Africa in Cape Town earlier ...IND vs BDESH 2024/25, India vs Bangladesh Match Report: Bangladesh captain Najmul Hossain Shanto's 82 kept the bowling at bay, but Ashwin and Ravindra Jadeja shared nine wicketsIndia vs Bangladesh test series 2024 will start on September 19. The Indian cricket team will begin their 2024-25 home season with a two-match test series against Bangladesh.It will be India's first test series at home since their victory over England earlier this year.\n",
            "=== LLM Response ===\n",
            "Ravichandran Ashwin was named the Man of the Series in the India vs Bangladesh 2024 Test Match. His outstanding performance with both bat and ball, accumulating 11 wickets and 114 runs across the two matches, earned him the award for the 11th time in his Test career.\n"
          ]
        }
      ]
    },
    {
      "cell_type": "code",
      "source": [
        "runner_chat.response"
      ],
      "metadata": {
        "colab": {
          "base_uri": "https://localhost:8080/",
          "height": 53
        },
        "id": "tGyBCOgElbQe",
        "outputId": "66e58194-8c55-4016-a785-79ba1e039994"
      },
      "execution_count": 17,
      "outputs": [
        {
          "output_type": "execute_result",
          "data": {
            "text/plain": [
              "'Ravichandran Ashwin was named the Man of the Series in the India vs Bangladesh 2024 Test Match. His outstanding performance with both bat and ball, accumulating 11 wickets and 114 runs across the two matches, earned him the award for the 11th time in his Test career.'"
            ],
            "application/vnd.google.colaboratory.intrinsic+json": {
              "type": "string"
            }
          },
          "metadata": {},
          "execution_count": 17
        }
      ]
    },
    {
      "cell_type": "markdown",
      "source": [
        "# Agentic RAG\n"
      ],
      "metadata": {
        "id": "_ZHzI6xepRq5"
      }
    },
    {
      "cell_type": "code",
      "source": [
        "#@title Download Pdf data\n",
        "!mkdir -p 'data/'\n",
        "!wget 'https://arxiv.org/pdf/2409.16160.pdf'\n"
      ],
      "metadata": {
        "colab": {
          "base_uri": "https://localhost:8080/"
        },
        "id": "ODW4-uuMteeo",
        "outputId": "a79abf3d-d6d3-454c-e273-6213129cfed3"
      },
      "execution_count": 18,
      "outputs": [
        {
          "output_type": "stream",
          "name": "stdout",
          "text": [
            "--2024-12-21 04:49:29--  https://arxiv.org/pdf/2409.16160.pdf\n",
            "Resolving arxiv.org (arxiv.org)... 151.101.67.42, 151.101.195.42, 151.101.3.42, ...\n",
            "Connecting to arxiv.org (arxiv.org)|151.101.67.42|:443... connected.\n",
            "HTTP request sent, awaiting response... 301 Moved Permanently\n",
            "Location: http://arxiv.org/pdf/2409.16160 [following]\n",
            "--2024-12-21 04:49:29--  http://arxiv.org/pdf/2409.16160\n",
            "Connecting to arxiv.org (arxiv.org)|151.101.67.42|:80... connected.\n",
            "HTTP request sent, awaiting response... 200 OK\n",
            "Length: 21704565 (21M) [application/pdf]\n",
            "Saving to: ‘2409.16160.pdf’\n",
            "\n",
            "2409.16160.pdf      100%[===================>]  20.70M  13.8MB/s    in 1.5s    \n",
            "\n",
            "2024-12-21 04:49:31 (13.8 MB/s) - ‘2409.16160.pdf’ saved [21704565/21704565]\n",
            "\n"
          ]
        }
      ]
    },
    {
      "cell_type": "code",
      "source": [
        "#@title Load the documents\n",
        "from llama_index.core import SimpleDirectoryReader\n",
        "\n",
        "documents = SimpleDirectoryReader(input_files = [\"/content/data/2409.16160.pdf\"]).load_data()"
      ],
      "metadata": {
        "id": "JYdUCdNopTUS"
      },
      "execution_count": 19,
      "outputs": []
    },
    {
      "cell_type": "code",
      "source": [
        "#@title Text Splitter in chunks\n",
        "from llama_index.core.node_parser import SentenceSplitter\n",
        "\n",
        "splitter = SentenceSplitter(chunk_size = 1024)\n",
        "nodes = splitter.get_nodes_from_documents(documents)"
      ],
      "metadata": {
        "id": "1u4GQ9CRpi7S"
      },
      "execution_count": 20,
      "outputs": []
    },
    {
      "cell_type": "code",
      "source": [
        "#@title Indexing Ingestion\n",
        "from llama_index.core import SummaryIndex, VectorStoreIndex\n",
        "\n",
        "summary_index = SummaryIndex(nodes)\n",
        "vector_index = VectorStoreIndex(nodes)"
      ],
      "metadata": {
        "id": "UggCy7VfqAmj"
      },
      "execution_count": 22,
      "outputs": []
    },
    {
      "cell_type": "code",
      "source": [
        "#@title create query engines\n",
        "summary_query_engine = summary_index.as_query_engine(response_mode = \"tree_summarize\", use_async = True)\n",
        "vector_query_engine = vector_index.as_query_engine()"
      ],
      "metadata": {
        "id": "n7O1LPsGqnoU"
      },
      "execution_count": 26,
      "outputs": []
    },
    {
      "cell_type": "code",
      "source": [
        "from llama_index.core.tools import QueryEngineTool\n",
        "from llama_index.core.selectors import LLMSingleSelector\n",
        "from llama_index.core.query_engine.router_query_engine import RouterQueryEngine\n",
        "\n",
        "summary_tool = QueryEngineTool.from_defaults(\n",
        "    query_engine = summary_query_engine,\n",
        "    description = (\"This Agent is useful to summarize the Research paper in a simplied way by giving intuitions\")\n",
        ")\n",
        "\n",
        "vector_tool = QueryEngineTool.from_defaults(\n",
        "    query_engine = vector_query_engine,\n",
        "    description = (\"This Agent is useful to answer to the user queries within the paper and retrieve the relevant piece of information\")\n",
        ")"
      ],
      "metadata": {
        "id": "62uVYeDmrAS-"
      },
      "execution_count": 27,
      "outputs": []
    },
    {
      "cell_type": "code",
      "source": [
        "query_engine = RouterQueryEngine(\n",
        "    selector = LLMSingleSelector.from_defaults(),\n",
        "    query_engine_tools = [summary_tool, vector_tool],\n",
        "    verbose = True)"
      ],
      "metadata": {
        "id": "6GYgHUVert5M"
      },
      "execution_count": 28,
      "outputs": []
    },
    {
      "cell_type": "code",
      "source": [
        "response = query_engine.query(\"give me technical architecture details in the paper\")"
      ],
      "metadata": {
        "colab": {
          "base_uri": "https://localhost:8080/"
        },
        "id": "hYLhh2S9sCyh",
        "outputId": "c79125f3-bfee-42cb-d7ad-b4a2e95c38ae"
      },
      "execution_count": 29,
      "outputs": [
        {
          "output_type": "stream",
          "name": "stdout",
          "text": [
            "\u001b[1;3;38;5;200mSelecting query engine 1: The question asks for specific details within the paper, which aligns with the capability of retrieving relevant pieces of information..\n",
            "\u001b[0m"
          ]
        }
      ]
    },
    {
      "cell_type": "code",
      "source": [
        "print(response)"
      ],
      "metadata": {
        "colab": {
          "base_uri": "https://localhost:8080/"
        },
        "id": "afxTIrL4sH0l",
        "outputId": "6d32a7bf-4188-4fbd-c5d6-e4b687f95c30"
      },
      "execution_count": 30,
      "outputs": [
        {
          "output_type": "stream",
          "name": "stdout",
          "text": [
            "The technical architecture presented in the paper involves a framework that decomposes a video clip into three spatial components: the main human, the underlying scene, and floating occlusions. These components are organized in hierarchical layers based on 3D depth. The human component is further disentangled into identity and motion properties using canonical appearance transfer and structured body codes. These properties are then encoded into identity code (Cid) and motion code (Cmo). The scene and occlusion components are embedded with a shared Variational Autoencoder (VAE) encoder and reorganized as a full scene code (Cso).\n",
            "\n",
            "These latent codes (Cid, Cmo, and Cso) are inserted into a diffusion-based decoder as conditions for video reconstruction. This architecture allows for controllable synthesis of various attributes and 3D-aware composition of the main object, foreground, and background. The framework enables flexible user controls and handles challenging cases of complicated 3D motions and natural object interactions.\n"
          ]
        }
      ]
    },
    {
      "cell_type": "code",
      "source": [
        "response_2 = query_engine.query(\"summarize the methodology from the paper\")"
      ],
      "metadata": {
        "colab": {
          "base_uri": "https://localhost:8080/"
        },
        "id": "IdM8ANv9sLJ5",
        "outputId": "ec2d0614-171d-4e82-97ea-0658b17ed083"
      },
      "execution_count": 31,
      "outputs": [
        {
          "output_type": "stream",
          "name": "stdout",
          "text": [
            "\u001b[1;3;38;5;200mSelecting query engine 0: The question asks for a summary of the methodology from the paper, which aligns with the capability of summarizing the research paper in a simplified way by giving intuitions..\n",
            "\u001b[0m"
          ]
        }
      ]
    },
    {
      "cell_type": "code",
      "source": [
        "print(response_2)"
      ],
      "metadata": {
        "colab": {
          "base_uri": "https://localhost:8080/"
        },
        "id": "A-5EZn0ssVzz",
        "outputId": "68e9629f-0849-4f14-f0b5-71bc0fcd4121"
      },
      "execution_count": null,
      "outputs": [
        {
          "output_type": "stream",
          "name": "stdout",
          "text": [
            "The methodology presented in the paper introduces a novel framework called MIMO for controllable character video synthesis. The core idea is to decompose a 2D video into spatial components considering the inherent 3D nature of video occurrence. Here's a summarized breakdown of the methodology:\n",
            "\n",
            "1. **Spatial Decomposition**: The video is split into three main components: the main human subject, the underlying scene, and floating occlusions (foreground objects). This is achieved by lifting 2D pixels into 3D using monocular depth estimators and then decomposing the video clip into hierarchical layers based on 3D depth.\n",
            "\n",
            "2. **Encoding Spatial Components**:\n",
            "   - **Human Component**: This is further disentangled into identity and motion codes. The identity is captured using a canonical appearance transfer, while the motion is encoded via structured body codes anchored to a deformable human body model (SMPL).\n",
            "   - **Scene and Occlusion Components**: These are embedded using a shared VAE encoder and reorganized into a full scene code.\n",
            "\n",
            "3. **Composed Decoding**: The latent codes of the decomposed attributes are recomposed as conditions for a diffusion-based decoder to reconstruct the video. The decoder uses a denoising U-Net backbone with temporal layers, where the full scene code, motion code, and identity code are inserted as conditions.\n",
            "\n",
            "4. **Training**: The model is trained using a diffusion noise-prediction loss, with the denoising U-Net, pose encoder, and reference-net being optimized. The training dataset includes real and synthetic character videos, with the synthetic videos providing accurate annotations.\n",
            "\n",
            "5. **Controllable Synthesis**: The method allows for flexible user control, where attributes like character, motion, and scene can be provided via simple inputs (e.g., a single image for character, a pose sequence for motion, and a single video/image for scene) or extracted from in-the-wild videos.\n",
            "\n",
            "The approach enables advanced scalability to arbitrary characters, generality to novel 3D motions, and applicability to interactive real-world scenes, all within a unified framework.\n"
          ]
        }
      ]
    },
    {
      "cell_type": "markdown",
      "source": [
        "# ReAct Agent\n",
        "- Build a simple project Search Assistant Agent."
      ],
      "metadata": {
        "id": "LF1QGe0IsZMx"
      }
    },
    {
      "cell_type": "code",
      "source": [
        "from llama_index.core.agent import ReActAgent\n",
        "\n",
        "agent = ReActAgent.from_tools(tools = [search_tool],\n",
        "                              llm = llm,\n",
        "                              verbose = True,\n",
        "                              allow_parallel_tool_call = True)"
      ],
      "metadata": {
        "id": "GCBaYaY6sY0I"
      },
      "execution_count": 32,
      "outputs": []
    },
    {
      "cell_type": "code",
      "source": [
        "response = agent.chat(\"Tell me about Elon Musk ?\")"
      ],
      "metadata": {
        "colab": {
          "base_uri": "https://localhost:8080/"
        },
        "id": "91rcpac8sxcG",
        "outputId": "21956d9b-ab5b-460f-e01f-6b118cf31b87"
      },
      "execution_count": 33,
      "outputs": [
        {
          "output_type": "stream",
          "name": "stdout",
          "text": [
            "> Running step e8d898f4-3dc7-4b2f-b4bd-715e30698120. Step input: Tell me about Elon Musk ?\n",
            "\u001b[1;3;38;5;200mThought: The current language of the user is: English. I need to use a tool to help me answer the question.\n",
            "Action: search\n",
            "Action Input: {'query': 'Elon Musk'}\n",
            "\u001b[0m\u001b[1;3;34mObservation: Elon Reeve Musk was born on June 28, 1971, in Pretoria, South Africa's administrative capital. [3] [4] He is of British and Pennsylvania Dutch ancestry.[5] [6] His mother, Maye (née Haldeman), is a model and dietitian born in Saskatchewan, Canada, and raised in South Africa.[7] [8] [9] His father, Errol Musk, is a South African electromechanical engineer, pilot, sailor, consultant, emerald ...Elon Musk is the founder of SpaceX and Tesla Motors, among other companies. Their success has propelled him to become the richest person in the world, with a net worth greater than $450 billion.Elon Musk's role in taking down a bipartisan budget deal shows his ascendance as a political force. The social media warnings from the world's wealthiest man preceded President-elect Donald Trump's condemnation of the measure negotiated by GOP House Speaker Mike Johnson.Elon Musk Flexes His Political Strength as Government Shutdown Looms. The world's richest man led the charge to kill a bipartisan spending deal, in part by promoting false and misleading claims ...\n",
            "\u001b[0m> Running step 3956760c-b44e-48e9-ba31-1e74467de6cf. Step input: None\n",
            "\u001b[1;3;38;5;200mThought: I can answer without using any more tools. I'll use the user's language to answer\n",
            "Answer: Elon Reeve Musk was born on June 28, 1971, in Pretoria, South Africa. He is the founder of SpaceX and Tesla Motors, among other companies. Their success has propelled him to become the richest person in the world, with a net worth greater than $450 billion.\n",
            "\u001b[0m"
          ]
        }
      ]
    },
    {
      "cell_type": "code",
      "source": [
        "print(response)"
      ],
      "metadata": {
        "colab": {
          "base_uri": "https://localhost:8080/"
        },
        "id": "Kh5nCEsxs26s",
        "outputId": "975ee989-e0ea-4aed-cc24-cd890404d8ef"
      },
      "execution_count": 34,
      "outputs": [
        {
          "output_type": "stream",
          "name": "stdout",
          "text": [
            "Elon Reeve Musk was born on June 28, 1971, in Pretoria, South Africa. He is the founder of SpaceX and Tesla Motors, among other companies. Their success has propelled him to become the richest person in the world, with a net worth greater than $450 billion.\n"
          ]
        }
      ]
    }
  ]
}