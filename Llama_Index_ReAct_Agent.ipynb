{
  "nbformat": 4,
  "nbformat_minor": 0,
  "metadata": {
    "colab": {
      "provenance": [],
      "authorship_tag": "ABX9TyNE/uYoItD1DvQBaSN2toIC",
      "include_colab_link": true
    },
    "kernelspec": {
      "name": "python3",
      "display_name": "Python 3"
    },
    "language_info": {
      "name": "python"
    }
  },
  "cells": [
    {
      "cell_type": "markdown",
      "metadata": {
        "id": "view-in-github",
        "colab_type": "text"
      },
      "source": [
        "<a href=\"https://colab.research.google.com/github/Pavun-KumarCH/Agentic-RAG-Systems/blob/main/Llama_Index_ReAct_Agent.ipynb\" target=\"_parent\"><img src=\"https://colab.research.google.com/assets/colab-badge.svg\" alt=\"Open In Colab\"/></a>"
      ]
    },
    {
      "cell_type": "markdown",
      "source": [
        "## Roadmap\n",
        "\n",
        "Part-4 This video focus:\n",
        "\n",
        "- Function Calling Agents + Agent Runner\n",
        "- Agentic RAG\n",
        "- Project - ReACT Agent: Building a Search Assistant Agent\n"
      ],
      "metadata": {
        "id": "TM_OYZBwb34q"
      }
    },
    {
      "cell_type": "code",
      "execution_count": 4,
      "metadata": {
        "colab": {
          "base_uri": "https://localhost:8080/"
        },
        "id": "5ndMSiAtbsf6",
        "outputId": "70155241-13ba-405c-8dad-503874f44139"
      },
      "outputs": [
        {
          "output_type": "stream",
          "name": "stdout",
          "text": [
            "\u001b[?25l   \u001b[90m━━━━━━━━━━━━━━━━━━━━━━━━━━━━━━━━━━━━━━━━\u001b[0m \u001b[32m0.0/260.0 kB\u001b[0m \u001b[31m?\u001b[0m eta \u001b[36m-:--:--\u001b[0m\r\u001b[2K   \u001b[90m━━━━━━━━━━━━━━━━━━━━━━━━━━━━━━━━━━━━━━━━\u001b[0m \u001b[32m260.0/260.0 kB\u001b[0m \u001b[31m10.5 MB/s\u001b[0m eta \u001b[36m0:00:00\u001b[0m\n",
            "\u001b[?25h\u001b[?25l   \u001b[90m━━━━━━━━━━━━━━━━━━━━━━━━━━━━━━━━━━━━━━━━\u001b[0m \u001b[32m0.0/76.4 kB\u001b[0m \u001b[31m?\u001b[0m eta \u001b[36m-:--:--\u001b[0m\r\u001b[2K   \u001b[90m━━━━━━━━━━━━━━━━━━━━━━━━━━━━━━━━━━━━━━━━\u001b[0m \u001b[32m76.4/76.4 kB\u001b[0m \u001b[31m7.1 MB/s\u001b[0m eta \u001b[36m0:00:00\u001b[0m\n",
            "\u001b[?25h"
          ]
        }
      ],
      "source": [
        "#@title requirements\n",
        "%pip install --q llama-index duckduckgo-search\n",
        "%pip install --q llama-index-llms-mistralai llama-index-embeddings-mistralai"
      ]
    },
    {
      "cell_type": "code",
      "source": [
        "#@title Function Calling\n",
        "import nest_asyncio, os\n",
        "from duckduckgo_search import DDGS\n",
        "from llama_index.core.tools import FunctionTool\n",
        "from llama_index.llms.mistralai import MistralAI\n",
        "from llama_index.embeddings.mistralai import MistralAIEmbedding # Agentic RAG\n",
        "\n",
        "nest_asyncio.apply()"
      ],
      "metadata": {
        "id": "DQm68eRQcWu5"
      },
      "execution_count": 10,
      "outputs": []
    },
    {
      "cell_type": "code",
      "source": [
        "#@title Creating function tools for search\n",
        "\n",
        "def search(query:str) -> str:\n",
        "  \"\"\"\n",
        "  Args:\n",
        "      query: user prompt\n",
        "  return:\n",
        "  context (str): search results to the user query\n",
        "  \"\"\"\n",
        "\n",
        "  req = DDGS()\n",
        "  response = req.text(query, max_results =4)\n",
        "  context = \"\"\n",
        "  for result in response:\n",
        "    context += result['body']\n",
        "  return context\n",
        "\n",
        "search_tool = FunctionTool.from_defaults(fn = search)"
      ],
      "metadata": {
        "id": "p6cDfe8Sc-N_"
      },
      "execution_count": 54,
      "outputs": []
    },
    {
      "cell_type": "code",
      "source": [
        "#@title Setup the Model\n",
        "from google.colab import userdata\n",
        "from llama_index.core import Settings\n",
        "\n",
        "mistral_api = userdata.get(\"MISTRALAI_API_KEY\")\n",
        "llm = MistralAI(model = \"mistral-large-latest\", api_key = mistral_api)\n",
        "embed_model = MistralAIEmbedding(model = \"mistral-embed\", api_key = mistral_api)\n",
        "\n",
        "Settings.llm = llm\n",
        "Settings.embed_model = embed_model"
      ],
      "metadata": {
        "id": "f9hbSsZ6eDOU"
      },
      "execution_count": 11,
      "outputs": []
    },
    {
      "cell_type": "code",
      "source": [
        "#@title testing llm-api\n",
        "llm.complete(\"tell me about AI ?\").text"
      ],
      "metadata": {
        "colab": {
          "base_uri": "https://localhost:8080/",
          "height": 105
        },
        "id": "p2jXKPu2h_0r",
        "outputId": "59900fbe-4ac2-4ce6-8baf-00abea4a3480"
      },
      "execution_count": 20,
      "outputs": [
        {
          "output_type": "execute_result",
          "data": {
            "text/plain": [
              "'Artificial Intelligence (AI) is a broad field of computer science dedicated to creating systems that can perform tasks that typically require human intelligence. These tasks include learning, reasoning, problem-solving, perception, and language understanding. AI can be categorized into several types, each with its own set of capabilities and applications:\\n\\n### Types of AI\\n\\n1. **Narrow AI (Weak AI)**:\\n   - Designed to perform a narrow task (e.g., facial recognition, internet searches, or driving a car).\\n   - Examples include Siri, Alexa, and self-driving cars.\\n\\n2. **General AI (Strong AI)**:\\n   - Hypothetical AI that possesses the ability to understand, learn, and apply knowledge across a wide range of tasks at a level equal to or beyond human capabilities.\\n   - As of now, General AI does not exist.\\n\\n3. **Superintelligent AI**:\\n   - A hypothetical AI that surpasses human intelligence in every economically valuable work.\\n   - This is a conceptual idea and not yet realized.\\n\\n### Key Components of AI\\n\\n1. **Machine Learning (ML)**:\\n   - A subset of AI that involves training algorithms to learn from data and make predictions or decisions without being explicitly programmed.\\n   - Techniques include supervised learning, unsupervised learning, and reinforcement learning.\\n\\n2. **Deep Learning**:\\n   - A subset of machine learning that uses neural networks with many layers to model complex patterns in data.\\n   - Commonly used in image and speech recognition.\\n\\n3. **Natural Language Processing (NLP)**:\\n   - The ability of a computer to understand, interpret, and generate human language.\\n   - Applications include chatbots, language translation, and sentiment analysis.\\n\\n4. **Computer Vision**:\\n   - The ability of a computer to interpret and make decisions based on visual input from the world.\\n   - Applications include facial recognition, object detection, and autonomous driving.\\n\\n5. **Robotics**:\\n   - The design and creation of robots that can perform tasks autonomously or semi-autonomously.\\n   - Applications include manufacturing, healthcare, and military.\\n\\n### Applications of AI\\n\\n1. **Healthcare**:\\n   - Diagnostic tools,'"
            ],
            "application/vnd.google.colaboratory.intrinsic+json": {
              "type": "string"
            }
          },
          "metadata": {},
          "execution_count": 20
        }
      ]
    },
    {
      "cell_type": "code",
      "source": [
        "query = \"Who was the Man of the Series in India vs Bangalesh 2024 Test Match ?\""
      ],
      "metadata": {
        "id": "jBY8TE1sd6zP"
      },
      "execution_count": 16,
      "outputs": []
    },
    {
      "cell_type": "code",
      "source": [
        "function_call = llm.predict_and_call(tools = [search_tool],\n",
        "                                     user_msg = query,\n",
        "                                     allow_parallel_tool_calls = True)\n"
      ],
      "metadata": {
        "id": "uL6hnmD2fYCk"
      },
      "execution_count": 21,
      "outputs": []
    },
    {
      "cell_type": "code",
      "source": [
        "type(function_call)"
      ],
      "metadata": {
        "colab": {
          "base_uri": "https://localhost:8080/"
        },
        "id": "9sQTNmyZhXni",
        "outputId": "a3fe1a66-33c3-4e53-d4a7-ecff4d978a4a"
      },
      "execution_count": 18,
      "outputs": [
        {
          "output_type": "execute_result",
          "data": {
            "text/plain": [
              "llama_index.core.chat_engine.types.AgentChatResponse"
            ]
          },
          "metadata": {},
          "execution_count": 18
        }
      ]
    },
    {
      "cell_type": "markdown",
      "source": [],
      "metadata": {
        "id": "Pcb6-SPVhsp3"
      }
    },
    {
      "cell_type": "code",
      "source": [
        "function_call.response"
      ],
      "metadata": {
        "colab": {
          "base_uri": "https://localhost:8080/",
          "height": 105
        },
        "id": "wh-ZKE_hhaR2",
        "outputId": "a78dc7cf-4708-4d83-a299-650b6abe2c33"
      },
      "execution_count": 19,
      "outputs": [
        {
          "output_type": "execute_result",
          "data": {
            "text/plain": [
              "\"IND vs BDESH 2024/25, India vs Bangladesh Match Report: Bangladesh captain Najmul Hossain Shanto's 82 kept the bowling at bay, but Ashwin and Ravindra Jadeja shared nine wicketsThe 312 balls India batted for in this Test is the second-fewest they have faced - and the fourth-fewest overall - to win a Test match, behind the 281 against South Africa in Cape Town earlier ...Ravichandran Ashwin 's impressive performance with both bat and ball in the two-match India vs Bangladesh Test 2024 series won him the Player of the Series award. The all-rounder had a tally of 11 wickets and 114 runs from the two matches that saw him win the coveted award for the 11th time in his Test career.India vs Bangladesh test series 2024 will start on September 19. The Indian cricket team will begin their 2024-25 home season with a two-match test series against Bangladesh.It will be India's first test series at home since their victory over England earlier this year.\""
            ],
            "application/vnd.google.colaboratory.intrinsic+json": {
              "type": "string"
            }
          },
          "metadata": {},
          "execution_count": 19
        }
      ]
    },
    {
      "cell_type": "markdown",
      "source": [
        "# Second Approach for Function Calling Agent\n",
        " * Function Calling Agent Worker"
      ],
      "metadata": {
        "id": "KaCmKdzPihOC"
      }
    },
    {
      "cell_type": "code",
      "source": [
        "from llama_index.core.agent import FunctionCallingAgent, FunctionCallingAgentWorker"
      ],
      "metadata": {
        "id": "vyc9r5IKhc95"
      },
      "execution_count": 22,
      "outputs": []
    },
    {
      "cell_type": "code",
      "source": [
        "agent = FunctionCallingAgent.from_tools(tools = [search_tool],\n",
        "                                        llm = llm,\n",
        "                                        verbose = True,\n",
        "                                        allow_parallel_tool_calls = True)"
      ],
      "metadata": {
        "id": "UqGxOpB9i3Dp"
      },
      "execution_count": 23,
      "outputs": []
    },
    {
      "cell_type": "code",
      "source": [
        "response = agent.chat(query)"
      ],
      "metadata": {
        "colab": {
          "base_uri": "https://localhost:8080/"
        },
        "id": "eV8p4DOJjCs-",
        "outputId": "14bbb020-6157-4bd6-e96e-1a34e37a7ab1"
      },
      "execution_count": 24,
      "outputs": [
        {
          "output_type": "stream",
          "name": "stdout",
          "text": [
            "> Running step d0d9066e-cf64-4f7a-bae8-f620eb233940. Step input: Who was the Man of the Series in India vs Bangalesh 2024 Test Match ?\n",
            "Added user message to memory: Who was the Man of the Series in India vs Bangalesh 2024 Test Match ?\n",
            "=== Calling Function ===\n",
            "Calling function: search with args: {\"query\": \"Man of the Series in India vs Bangladesh 2024 Test Match\"}\n",
            "=== Function Output ===\n",
            "The 312 balls India batted for in this Test is the second-fewest they have faced - and the fourth-fewest overall - to win a Test match, behind the 281 against South Africa in Cape Town earlier ...Ashwin scored a hundred and took six wickets, while Jadeja chipped in with three, to secure a 1-0 lead for India in Chennai. Shanto made 82 for Bangladesh, but could not prevent the defeat.Ravichandran Ashwin 's impressive performance with both bat and ball in the two-match India vs Bangladesh Test 2024 series won him the Player of the Series award. The all-rounder had a tally of 11 wickets and 114 runs from the two matches that saw him win the coveted award for the 11th time in his Test career.India won by 280 runs against Bangladesh in the first Test match of the series at Chennai. Ravichandran Ashwin scored a brilliant 113 and took six wickets in the match, while Taskin Ahmed and ...\n",
            "> Running step 30e7e338-897f-4d10-9695-552b2a58e09e. Step input: None\n",
            "=== LLM Response ===\n",
            "Ravichandran Ashwin was named the Man of the Series in the India vs Bangladesh 2024 Test Match. He had an impressive performance with both bat and ball, scoring 114 runs and taking 11 wickets across the two matches. This was his 11th Player of the Series award in his Test career.\n"
          ]
        }
      ]
    },
    {
      "cell_type": "code",
      "source": [
        "print(response)"
      ],
      "metadata": {
        "colab": {
          "base_uri": "https://localhost:8080/"
        },
        "id": "GgJv4N90klPm",
        "outputId": "86c80a97-0f70-49eb-cbf9-639e252ef200"
      },
      "execution_count": 25,
      "outputs": [
        {
          "output_type": "stream",
          "name": "stdout",
          "text": [
            "Ravichandran Ashwin was named the Man of the Series in the India vs Bangladesh 2024 Test Match. He had an impressive performance with both bat and ball, scoring 114 runs and taking 11 wickets across the two matches. This was his 11th Player of the Series award in his Test career.\n"
          ]
        }
      ]
    },
    {
      "cell_type": "markdown",
      "source": [
        "# Third Approach and the Recommended one : Agent Runner"
      ],
      "metadata": {
        "id": "dUyDr29xkq9w"
      }
    },
    {
      "cell_type": "code",
      "source": [
        "from llama_index.core.agent import AgentRunner\n",
        "\n",
        "agent_worker = FunctionCallingAgentWorker.from_tools(\n",
        "    tools = [search_tool],\n",
        "    llm = llm,\n",
        "    verbose = True,\n",
        "    allow_parallel_tool_calls = True\n",
        ")\n",
        "\n",
        "agent_runner = AgentRunner(agent_worker)"
      ],
      "metadata": {
        "id": "jIOvKObGknQp"
      },
      "execution_count": 26,
      "outputs": []
    },
    {
      "cell_type": "code",
      "source": [
        "runner_response = agent_runner.query(query)"
      ],
      "metadata": {
        "colab": {
          "base_uri": "https://localhost:8080/"
        },
        "id": "2cQBNO8rlM4L",
        "outputId": "fadaba7d-da70-4a6f-f40f-13d1f8c65f86"
      },
      "execution_count": 28,
      "outputs": [
        {
          "output_type": "stream",
          "name": "stdout",
          "text": [
            "Added user message to memory: Who was the Man of the Series in India vs Bangalesh 2024 Test Match ?\n",
            "=== Calling Function ===\n",
            "Calling function: search with args: {\"query\": \"Man of the Series in India vs Bangladesh 2024 Test Match\"}\n",
            "=== Function Output ===\n",
            "The 312 balls India batted for in this Test is the second-fewest they have faced - and the fourth-fewest overall - to win a Test match, behind the 281 against South Africa in Cape Town earlier ...IND vs BDESH 2024/25, India vs Bangladesh Match Report: Bangladesh captain Najmul Hossain Shanto's 82 kept the bowling at bay, but Ashwin and Ravindra Jadeja shared nine wicketsRavichandran Ashwin 's impressive performance with both bat and ball in the two-match India vs Bangladesh Test 2024 series won him the Player of the Series award. The all-rounder had a tally of 11 wickets and 114 runs from the two matches that saw him win the coveted award for the 11th time in his Test career.Get cricket scorecard of 1st Test, IND vs BAN, Bangladesh in India 2024/25 at MA Chidambaram Stadium, Chepauk, Chennai dated September 19 - 22, 2024. ... 5.1 to RG Sharma, he gets his man. In-out ...\n",
            "=== LLM Response ===\n",
            "Ravichandran Ashwin was named the Man of the Series in the India vs Bangladesh 2024 Test Match. His impressive performance with both bat and ball, including a tally of 11 wickets and 114 runs from the two matches, earned him the coveted award for the 11th time in his Test career.\n"
          ]
        }
      ]
    },
    {
      "cell_type": "code",
      "source": [
        "runner_response.response"
      ],
      "metadata": {
        "colab": {
          "base_uri": "https://localhost:8080/",
          "height": 53
        },
        "id": "iR1fJT--lP3W",
        "outputId": "12b63bc7-b38a-40f9-de5a-b38e9fb5619a"
      },
      "execution_count": 29,
      "outputs": [
        {
          "output_type": "execute_result",
          "data": {
            "text/plain": [
              "'Ravichandran Ashwin was named the Man of the Series in the India vs Bangladesh 2024 Test Match. His impressive performance with both bat and ball, including a tally of 11 wickets and 114 runs from the two matches, earned him the coveted award for the 11th time in his Test career.'"
            ],
            "application/vnd.google.colaboratory.intrinsic+json": {
              "type": "string"
            }
          },
          "metadata": {},
          "execution_count": 29
        }
      ]
    },
    {
      "cell_type": "code",
      "source": [
        "# you can also use chat to get response\n",
        "runner_chat = agent_runner.chat(query)"
      ],
      "metadata": {
        "colab": {
          "base_uri": "https://localhost:8080/"
        },
        "id": "et_k5ldVlXhS",
        "outputId": "9859f64d-e11c-4c9c-a1ef-0009523a2765"
      },
      "execution_count": 30,
      "outputs": [
        {
          "output_type": "stream",
          "name": "stdout",
          "text": [
            "Added user message to memory: Who was the Man of the Series in India vs Bangalesh 2024 Test Match ?\n",
            "=== Calling Function ===\n",
            "Calling function: search with args: {\"query\": \"Man of the Series in India vs Bangladesh 2024 Test Match\"}\n",
            "=== Function Output ===\n",
            "The 312 balls India batted for in this Test is the second-fewest they have faced - and the fourth-fewest overall - to win a Test match, behind the 281 against South Africa in Cape Town earlier ...IND vs BDESH 2024/25, India vs Bangladesh Match Report: Bangladesh captain Najmul Hossain Shanto's 82 kept the bowling at bay, but Ashwin and Ravindra Jadeja shared nine wicketsIndia vs Bangladesh test series 2024 will start on September 19. The Indian cricket team will begin their 2024-25 home season with a two-match test series against Bangladesh.It will be India's first test series at home since their victory over England earlier this year.World No. 1 Test bowler Ravichandran Ashwin equalled legendary Sri Lankan spinner Muttiah Muralitharan's record of most Player of the Series award in Test cricket's history on Tuesday (October 1) by winning his 11th top prize. Ashwin was named as the best player of the two-match Test series played between India and Bangladesh.\n",
            "=== LLM Response ===\n",
            "Ravichandran Ashwin was named the Man of the Series in the India vs Bangladesh 2024 Test Match. His impressive performance with both bat and ball, including a tally of 11 wickets and 114 runs from the two matches, earned him the coveted award for the 11th time in his Test career.\n"
          ]
        }
      ]
    },
    {
      "cell_type": "code",
      "source": [
        "runner_chat.response"
      ],
      "metadata": {
        "colab": {
          "base_uri": "https://localhost:8080/",
          "height": 53
        },
        "id": "tGyBCOgElbQe",
        "outputId": "0f622386-925f-42f5-dbd7-5c46e4b1145c"
      },
      "execution_count": 31,
      "outputs": [
        {
          "output_type": "execute_result",
          "data": {
            "text/plain": [
              "'Ravichandran Ashwin was named the Man of the Series in the India vs Bangladesh 2024 Test Match. His impressive performance with both bat and ball, including a tally of 11 wickets and 114 runs from the two matches, earned him the coveted award for the 11th time in his Test career.'"
            ],
            "application/vnd.google.colaboratory.intrinsic+json": {
              "type": "string"
            }
          },
          "metadata": {},
          "execution_count": 31
        }
      ]
    },
    {
      "cell_type": "markdown",
      "source": [
        "# Agentic RAG\n"
      ],
      "metadata": {
        "id": "_ZHzI6xepRq5"
      }
    },
    {
      "cell_type": "code",
      "source": [
        "#@title Download Pdf data\n",
        "!mkdir -p 'data/'\n",
        "!wget 'https://arxiv.org/pdf/2409.16160.pdf'\n",
        ""
      ],
      "metadata": {
        "colab": {
          "base_uri": "https://localhost:8080/"
        },
        "id": "ODW4-uuMteeo",
        "outputId": "9ebba266-e2a1-4dcb-931d-aad4754f4847"
      },
      "execution_count": 36,
      "outputs": [
        {
          "output_type": "stream",
          "name": "stdout",
          "text": [
            "--2024-12-20 10:59:25--  https://arxiv.org/pdf/2409.16160.pdf\n",
            "Resolving arxiv.org (arxiv.org)... 151.101.3.42, 151.101.131.42, 151.101.67.42, ...\n",
            "Connecting to arxiv.org (arxiv.org)|151.101.3.42|:443... connected.\n",
            "HTTP request sent, awaiting response... 301 Moved Permanently\n",
            "Location: http://arxiv.org/pdf/2409.16160 [following]\n",
            "--2024-12-20 10:59:26--  http://arxiv.org/pdf/2409.16160\n",
            "Connecting to arxiv.org (arxiv.org)|151.101.3.42|:80... connected.\n",
            "HTTP request sent, awaiting response... 200 OK\n",
            "Length: 21704565 (21M) [application/pdf]\n",
            "Saving to: ‘2409.16160.pdf’\n",
            "\n",
            "2409.16160.pdf      100%[===================>]  20.70M  --.-KB/s    in 0.1s    \n",
            "\n",
            "2024-12-20 10:59:26 (199 MB/s) - ‘2409.16160.pdf’ saved [21704565/21704565]\n",
            "\n"
          ]
        }
      ]
    },
    {
      "cell_type": "code",
      "source": [
        "#@title Load the documents\n",
        "from llama_index.core import SimpleDirectoryReader\n",
        "\n",
        "documents = SimpleDirectoryReader(input_files = [\"/content/data/2409.16160.pdf\"]).load_data()"
      ],
      "metadata": {
        "id": "JYdUCdNopTUS"
      },
      "execution_count": 35,
      "outputs": []
    },
    {
      "cell_type": "code",
      "source": [
        "#@title Text Splitter in chunks\n",
        "from llama_index.core.node_parser import SentenceSplitter\n",
        "\n",
        "splitter = SentenceSplitter(chunk_size = 1024)\n",
        "nodes = splitter.get_nodes_from_documents(documents)"
      ],
      "metadata": {
        "id": "1u4GQ9CRpi7S"
      },
      "execution_count": 37,
      "outputs": []
    },
    {
      "cell_type": "code",
      "source": [
        "#@title Indexing Ingestion\n",
        "from llama_index.core import SummaryIndex, VectorStoreIndex\n",
        "\n",
        "summary_index = SummaryIndex(nodes)\n",
        "vector_index = VectorStoreIndex(nodes)"
      ],
      "metadata": {
        "id": "UggCy7VfqAmj"
      },
      "execution_count": 39,
      "outputs": []
    },
    {
      "cell_type": "code",
      "source": [
        "#@title create query engines\n",
        "summary_query_engine = summary_index.as_query_engine(response_mode = \"tree_summarize\",\n",
        "use_async = True)\n",
        "vector_query_engine = vector_index.as_query_engine()"
      ],
      "metadata": {
        "id": "n7O1LPsGqnoU"
      },
      "execution_count": 40,
      "outputs": []
    },
    {
      "cell_type": "code",
      "source": [
        "from llama_index.core.tools import QueryEngineTool\n",
        "from llama_index.core.selectors import LLMSingleSelector\n",
        "from llama_index.core.query_engine.router_query_engine import RouterQueryEngine\n",
        "\n",
        "summary_tool = QueryEngineTool.from_defaults(\n",
        "    query_engine = summary_query_engine,\n",
        "    description = (\"This Agent is useful to summarize the Research paper in a simplied way by giving intuitions\")\n",
        ")\n",
        "\n",
        "vector_tool = QueryEngineTool.from_defaults(\n",
        "    query_engine = vector_query_engine,\n",
        "    description = (\n",
        "        \"This Agent is useful to answer to the user queries within the paper and retrieve the relevant piece of information\"\n",
        "    ),\n",
        ")"
      ],
      "metadata": {
        "id": "62uVYeDmrAS-"
      },
      "execution_count": 41,
      "outputs": []
    },
    {
      "cell_type": "code",
      "source": [
        "query_engine = RouterQueryEngine(\n",
        "    selector = LLMSingleSelector.from_defaults(),\n",
        "    query_engine_tools = [summary_tool, vector_tool],\n",
        "    verbose = True)"
      ],
      "metadata": {
        "id": "6GYgHUVert5M"
      },
      "execution_count": 42,
      "outputs": []
    },
    {
      "cell_type": "code",
      "source": [
        "response = query_engine.query(\"give me technical architecture details in the paper\")"
      ],
      "metadata": {
        "colab": {
          "base_uri": "https://localhost:8080/"
        },
        "id": "hYLhh2S9sCyh",
        "outputId": "3f71eadf-189b-4d45-f65f-ef8499004e53"
      },
      "execution_count": 43,
      "outputs": [
        {
          "output_type": "stream",
          "name": "stdout",
          "text": [
            "\u001b[1;3;38;5;200mSelecting query engine 1: The question asks for specific details within the paper, which aligns with the capability of retrieving relevant pieces of information..\n",
            "\u001b[0m"
          ]
        }
      ]
    },
    {
      "cell_type": "code",
      "source": [
        "print(response)"
      ],
      "metadata": {
        "colab": {
          "base_uri": "https://localhost:8080/"
        },
        "id": "afxTIrL4sH0l",
        "outputId": "96cfb6b4-0140-4f2b-c3d0-7f0ebfbc10fe"
      },
      "execution_count": 44,
      "outputs": [
        {
          "output_type": "stream",
          "name": "stdout",
          "text": [
            "The technical architecture presented in the paper involves a framework that decomposes a video clip into three spatial components: the main human, the underlying scene, and floating occlusions. These components are organized in hierarchical layers based on 3D depth. The human component is further disentangled into identity and motion properties using canonical appearance transfer and structured body codes. These properties are then encoded into identity code (Cid) and motion code (Cmo). The scene and occlusion components are embedded with a shared Variational Autoencoder (VAE) encoder and reorganized as a full scene code (Cso).\n",
            "\n",
            "These latent codes (Cid, Cmo, and Cso) are inserted into a diffusion-based decoder as conditions for video reconstruction. This architecture allows for controllable synthesis of various attributes and 3D-aware composition of the main object, foreground, and background. The network enables flexible user controls and handles complex 3D motions and natural object interactions.\n"
          ]
        }
      ]
    },
    {
      "cell_type": "code",
      "source": [
        "response_2 = query_engine.query(\"summarize the methodology from the paper\")"
      ],
      "metadata": {
        "colab": {
          "base_uri": "https://localhost:8080/"
        },
        "id": "IdM8ANv9sLJ5",
        "outputId": "b879a6b0-51f9-4b27-8205-e7dea4b768cf"
      },
      "execution_count": 46,
      "outputs": [
        {
          "output_type": "stream",
          "name": "stdout",
          "text": [
            "\u001b[1;3;38;5;200mSelecting query engine 0: The question asks to summarize a specific part of the paper, and choice (1) mentions that the agent is useful to summarize the research paper in a simplified way by giving intuitions..\n",
            "\u001b[0m"
          ]
        }
      ]
    },
    {
      "cell_type": "code",
      "source": [
        "print(response_2)"
      ],
      "metadata": {
        "colab": {
          "base_uri": "https://localhost:8080/"
        },
        "id": "A-5EZn0ssVzz",
        "outputId": "68e9629f-0849-4f14-f0b5-71bc0fcd4121"
      },
      "execution_count": 47,
      "outputs": [
        {
          "output_type": "stream",
          "name": "stdout",
          "text": [
            "The methodology presented in the paper introduces a novel framework called MIMO for controllable character video synthesis. The core idea is to decompose a 2D video into spatial components considering the inherent 3D nature of video occurrence. Here's a summarized breakdown of the methodology:\n",
            "\n",
            "1. **Spatial Decomposition**: The video is split into three main components: the main human subject, the underlying scene, and floating occlusions (foreground objects). This is achieved by lifting 2D pixels into 3D using monocular depth estimators and then decomposing the video clip into hierarchical layers based on 3D depth.\n",
            "\n",
            "2. **Encoding Spatial Components**:\n",
            "   - **Human Component**: This is further disentangled into identity and motion codes. The identity is captured using a canonical appearance transfer, while the motion is encoded via structured body codes anchored to a deformable human body model (SMPL).\n",
            "   - **Scene and Occlusion Components**: These are embedded using a shared VAE encoder and reorganized into a full scene code.\n",
            "\n",
            "3. **Composed Decoding**: The latent codes of the decomposed attributes are recomposed as conditions for a diffusion-based decoder to reconstruct the video. The decoder uses a denoising U-Net backbone with temporal layers, where the full scene code, motion code, and identity code are inserted as conditions.\n",
            "\n",
            "4. **Training**: The model is trained using a diffusion noise-prediction loss, with the denoising U-Net, pose encoder, and reference-net being optimized. The training dataset includes real and synthetic character videos, with the synthetic videos providing accurate annotations.\n",
            "\n",
            "5. **Controllable Synthesis**: The method allows for flexible user control, where attributes like character, motion, and scene can be provided via simple inputs (e.g., a single image for character, a pose sequence for motion, and a single video/image for scene) or extracted from in-the-wild videos.\n",
            "\n",
            "The approach enables advanced scalability to arbitrary characters, generality to novel 3D motions, and applicability to interactive real-world scenes, all within a unified framework.\n"
          ]
        }
      ]
    },
    {
      "cell_type": "markdown",
      "source": [
        "# ReAct Agent\n",
        "- Build a simple project Search Assistant Agent."
      ],
      "metadata": {
        "id": "LF1QGe0IsZMx"
      }
    },
    {
      "cell_type": "code",
      "source": [
        "from llama_index.core.agent import ReActAgent\n",
        "\n",
        "agent = ReActAgent.from_tools(tools = [search_tool],\n",
        "                              llm = llm,\n",
        "                              verbose = True,\n",
        "                              allow_parallel_tool_call = True)"
      ],
      "metadata": {
        "id": "GCBaYaY6sY0I"
      },
      "execution_count": 48,
      "outputs": []
    },
    {
      "cell_type": "code",
      "source": [
        "response = agent.chat(\"Tell me about Elon Musk ?\")"
      ],
      "metadata": {
        "colab": {
          "base_uri": "https://localhost:8080/"
        },
        "id": "91rcpac8sxcG",
        "outputId": "c4b64f23-cd28-48ac-aa63-f6a4f56405da"
      },
      "execution_count": 57,
      "outputs": [
        {
          "output_type": "stream",
          "name": "stdout",
          "text": [
            "> Running step bf125442-517c-4d6b-9a0b-1fcf25f62c0c. Step input: Tell me about Elon Musk ?\n",
            "\u001b[1;3;38;5;200mThought: The current language of the user is: English. I need to use a tool to help me answer the question.\n",
            "Action: search\n",
            "Action Input: {'query': 'Elon Musk'}\n",
            "\u001b[0m\u001b[1;3;34mObservation: Elon Reeve Musk was born on June 28, 1971, in Pretoria, South Africa's administrative capital. [3] [4] He is of British and Pennsylvania Dutch ancestry.[5] [6] His mother, Maye (née Haldeman), is a model and dietitian born in Saskatchewan, Canada, and raised in South Africa.[7] [8] [9] His father, Errol Musk, is a South African electromechanical engineer, pilot, sailor, consultant, emerald ...Elon Musk is the founder of SpaceX and Tesla Motors, among other companies. Their success has propelled him to become the richest person in the world, with a net worth greater than $450 billion.Elon Musk's role in taking down a bipartisan budget deal shows his ascendance as a political force. The social media warnings from the world's wealthiest man preceded President-elect Donald Trump's condemnation of the measure negotiated by GOP House Speaker Mike Johnson.Elon Musk made more than 150 posts about the bill on X, the social media site he owns. Credit... Doug Mills/The New York Times. By Michael D. Shear Annie Karni Ryan Mac and Maggie Haberman.\n",
            "\u001b[0m> Running step 0d3eca68-58a5-4858-8e4d-51718aa9b8a9. Step input: None\n",
            "\u001b[1;3;38;5;200mThought: I can answer without using any more tools. I'll use the user's language to answer\n",
            "Answer: Elon Reeve Musk was born on June 28, 1971, in Pretoria, South Africa. He is of British and Pennsylvania Dutch ancestry. His mother, Maye (née Haldeman), is a model and dietitian born in Saskatchewan, Canada, and raised in South Africa. His father, Errol Musk, is a South African electromechanical engineer, pilot, sailor, consultant, and emerald miner.\n",
            "\n",
            "Elon Musk is the founder of SpaceX and Tesla Motors, among other companies. Their success has propelled him to become the richest person in the world, with a net worth greater than $450 billion.\n",
            "\n",
            "Elon Musk's role in taking down a bipartisan budget deal shows his ascendance as a political force. The social media warnings from the world's wealthiest man preceded President-elect Donald Trump's condemnation of the measure negotiated by GOP House Speaker Mike Johnson. Elon Musk made more than 150 posts about the bill on X, the social media site he owns.\n",
            "\u001b[0m"
          ]
        }
      ]
    },
    {
      "cell_type": "code",
      "source": [
        "print(response)"
      ],
      "metadata": {
        "colab": {
          "base_uri": "https://localhost:8080/"
        },
        "id": "Kh5nCEsxs26s",
        "outputId": "71e572da-acb7-4260-a87f-662d6237233d"
      },
      "execution_count": 58,
      "outputs": [
        {
          "output_type": "stream",
          "name": "stdout",
          "text": [
            "Elon Reeve Musk was born on June 28, 1971, in Pretoria, South Africa. He is of British and Pennsylvania Dutch ancestry. His mother, Maye (née Haldeman), is a model and dietitian born in Saskatchewan, Canada, and raised in South Africa. His father, Errol Musk, is a South African electromechanical engineer, pilot, sailor, consultant, and emerald miner.\n",
            "\n",
            "Elon Musk is the founder of SpaceX and Tesla Motors, among other companies. Their success has propelled him to become the richest person in the world, with a net worth greater than $450 billion.\n",
            "\n",
            "Elon Musk's role in taking down a bipartisan budget deal shows his ascendance as a political force. The social media warnings from the world's wealthiest man preceded President-elect Donald Trump's condemnation of the measure negotiated by GOP House Speaker Mike Johnson. Elon Musk made more than 150 posts about the bill on X, the social media site he owns.\n"
          ]
        }
      ]
    }
  ]
}