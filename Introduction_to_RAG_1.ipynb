{
  "nbformat": 4,
  "nbformat_minor": 0,
  "metadata": {
    "colab": {
      "private_outputs": true,
      "provenance": [],
      "authorship_tag": "ABX9TyM8Ws4sNYR9GEANOrI+RxZo",
      "include_colab_link": true
    },
    "kernelspec": {
      "name": "python3",
      "display_name": "Python 3"
    },
    "language_info": {
      "name": "python"
    }
  },
  "cells": [
    {
      "cell_type": "markdown",
      "metadata": {
        "id": "view-in-github",
        "colab_type": "text"
      },
      "source": [
        "<a href=\"https://colab.research.google.com/github/Pavun-KumarCH/Agentic-RAG-Systems/blob/main/Introduction_to_RAG_1.ipynb\" target=\"_parent\"><img src=\"https://colab.research.google.com/assets/colab-badge.svg\" alt=\"Open In Colab\"/></a>"
      ]
    },
    {
      "cell_type": "markdown",
      "source": [
        "# Rag From Scratch: Overview\n",
        "These notebooks walk through the process of building RAG app(s) from scratch.\n",
        "\n",
        "They will build towards a broader understanding of the RAG langscape, as shown here:"
      ],
      "metadata": {
        "id": "0bpqWC5Uh7cx"
      }
    },
    {
      "cell_type": "code",
      "execution_count": null,
      "metadata": {
        "id": "kaaZfG7ah2YS"
      },
      "outputs": [],
      "source": [
        "#@title requirements\n",
        "%pip install --q langchain_community tiktoken langchain-openai langchainhub chromadb langchain"
      ]
    },
    {
      "cell_type": "code",
      "source": [
        "import os\n",
        "from google.colab import userdata\n",
        "os.environ['LANGCHAIN_TRACING_V2'] = 'true'\n",
        "os.environ['LANGCHAIN_ENDPOINT'] = 'https://api.smith.langchain.com'\n",
        "os.environ[\"LANGCHAIN_API_KEY\"] = userdata.get('LANGCHAIN_API_KEY')\n",
        "os.environ[\"OPENAI_API_KEY\"] = userdata.get('OPENAI_API_KEY')"
      ],
      "metadata": {
        "id": "Av-zWn8jiMTX"
      },
      "execution_count": null,
      "outputs": []
    },
    {
      "cell_type": "markdown",
      "source": [
        "# Part 1 : Overview\n",
        "\n",
        "[RAG](https://python.langchain.com/docs/tutorials/rag/)"
      ],
      "metadata": {
        "id": "tvKDR-JhjZT7"
      }
    },
    {
      "cell_type": "code",
      "source": [
        "# Load Dependencies\n",
        "import bs4\n",
        "from langchain import hub\n",
        "from langchain_openai import ChatOpenAI, OpenAIEmbeddings\n",
        "from IPython.display import Markdown\n",
        "\n",
        "from langchain_community.document_loaders import WebBaseLoader\n",
        "from langchain.text_splitter import RecursiveCharacterTextSplitter\n",
        "from langchain_community.vectorstores import Chroma\n",
        "from langchain_core.output_parsers import StrOutputParser\n",
        "from langchain_core.runnables import RunnablePassthrough"
      ],
      "metadata": {
        "id": "c5zHEhG7jbkK"
      },
      "execution_count": null,
      "outputs": []
    },
    {
      "cell_type": "code",
      "source": [
        "#### Indexing ###\n",
        "loader = WebBaseLoader(\n",
        "    web_paths = (\"https://lilianweng.github.io/posts/2023-06-23-agent/\",),\n",
        "    bs_kwargs = dict(\n",
        "        parse_only = bs4.SoupStrainer(\n",
        "            class_ = (\"post-content\", \"post-title\",\"post-header\")\n",
        "        )\n",
        "    ),\n",
        ")\n",
        "docs = loader.load()\n",
        "\n",
        "## Split\n",
        "text_splitter = RecursiveCharacterTextSplitter(chunk_size = 1000, chunk_overlap = 200)\n",
        "splits = text_splitter.split_documents(docs)\n",
        "\n",
        "## Embed\n",
        "vectorstore = Chroma.from_documents(splits, embedding = OpenAIEmbeddings())\n",
        "\n",
        "retriever = vectorstore.as_retriever()\n",
        "\n",
        "#### RETRIEVAL and GENERATION ####\n",
        "\n",
        "# Prompt\n",
        "prompt = hub.pull(\"rlm/rag-prompt\")\n",
        "\n",
        "## LLM\n",
        "llm = ChatOpenAI(model_name = \"gpt-3.5-turbo\",\n",
        "                 temperature = 0.2,\n",
        "                 top_p = 0.7)\n",
        "\n",
        "## Post-processing\n",
        "def format_docs(docs):\n",
        "    return \"\\n\\n\".join(doc.page_content for doc in docs)\n",
        "\n",
        "## RAG pipeline Chain\n",
        "rag_chain = (\n",
        "    {\"context\": retriever | format_docs, \"question\":\n",
        "      RunnablePassthrough()}\n",
        "    | prompt\n",
        "    | llm\n",
        "    | StrOutputParser()\n",
        ")\n",
        "\n",
        "## Question\n",
        "Markdown(rag_chain.invoke(\"What are the approaches to Task Decomposition?\"))"
      ],
      "metadata": {
        "id": "FzA8Qo9ckeyt"
      },
      "execution_count": null,
      "outputs": []
    },
    {
      "cell_type": "markdown",
      "source": [
        "# Part-2 : Indexing"
      ],
      "metadata": {
        "id": "LMM4Ixh_ngIW"
      }
    },
    {
      "cell_type": "code",
      "source": [
        "# Documents\n",
        "question = \"What are the approaches to Task Decomposition?\"\n",
        "document = \"My Favorite pet is a cat.\""
      ],
      "metadata": {
        "id": "IRMB1HFAnf0b"
      },
      "execution_count": null,
      "outputs": []
    },
    {
      "cell_type": "markdown",
      "source": [
        "* Count tokens considering ~4 char / token"
      ],
      "metadata": {
        "id": "RBbf8sKkobrR"
      }
    },
    {
      "cell_type": "code",
      "source": [
        "import tiktoken\n",
        "\n",
        "def num_tokents_from_string(string: str, encoding_name: str) -> int:\n",
        "  \"\"\"Returns the number of tokens in a text string.\"\"\"\n",
        "  encoding = tiktoken.get_encoding(encoding_name)\n",
        "  num_tokens = len(encoding.encode(string))\n",
        "  return num_tokens\n",
        "\n",
        "num_tokents_from_string(question, \"cl100k_base\")\n"
      ],
      "metadata": {
        "id": "QyakYjh6nvVW"
      },
      "execution_count": null,
      "outputs": []
    },
    {
      "cell_type": "markdown",
      "source": [
        "* Text embedding models"
      ],
      "metadata": {
        "id": "EKEEougnohFk"
      }
    },
    {
      "cell_type": "code",
      "source": [
        "from langchain_openai import OpenAIEmbeddings\n",
        "\n",
        "embeddings = OpenAIEmbeddings()\n",
        "query_result = embeddings.embed_query(question)\n",
        "document_result = embeddings.embed_query(document)\n",
        "len(query_result)"
      ],
      "metadata": {
        "id": "pBxoXNvMoijs"
      },
      "execution_count": null,
      "outputs": []
    },
    {
      "cell_type": "markdown",
      "source": [
        "* Cosine similarity is reccomended (1 indicates identical) for OpenAI embeddings.\n",
        "\n"
      ],
      "metadata": {
        "id": "S_W8wZ74oyig"
      }
    },
    {
      "cell_type": "code",
      "source": [
        "# Sematic Search metric Cosine Similarity\n",
        "import numpy as np\n",
        "\n",
        "def cosine_similarity(vec1,vec2):\n",
        "  dot_product = np.dot(vec1, vec2)\n",
        "  norm_vec1 = np.linalg.norm(vec1)\n",
        "  norm_vec2 = np.linalg.norm(vec2)\n",
        "  return dot_product / (norm_vec1 * norm_vec2)\n",
        "\n",
        "similarity = cosine_similarity(query_result, document_result)\n",
        "print(\"Cosine Similarity:\", similarity)"
      ],
      "metadata": {
        "id": "puDPq_aWowuh"
      },
      "execution_count": null,
      "outputs": []
    },
    {
      "cell_type": "markdown",
      "source": [
        "* Document Loaders"
      ],
      "metadata": {
        "id": "Rc3lgCdmpgQU"
      }
    },
    {
      "cell_type": "code",
      "source": [
        "#### INDEXING ####\n",
        "\n",
        "# Load blog\n",
        "import bs4\n",
        "from langchain_community.document_loaders import WebBaseLoader\n",
        "loader = WebBaseLoader(\n",
        "    web_paths = (\"https://lilianweng.github.io/posts/2023-06-23-agent/\",),\n",
        "    bs_kwargs = dict(\n",
        "        parse_only = bs4.SoupStrainer(\n",
        "            class_ = (\"post-content\", \"post-title\",\"post-header\")\n",
        "        )\n",
        "    ),\n",
        ")\n",
        "blog_docs = loader.load()"
      ],
      "metadata": {
        "id": "REkzu3l5piBx"
      },
      "execution_count": null,
      "outputs": []
    },
    {
      "cell_type": "markdown",
      "source": [
        "* splitter\n",
        "\n",
        "\n",
        "> This text splitter is the recommended one for generic text. It is parameterized by a list of characters. It tries to split on them in order until the chunks are small enough. The default list is [\"\\n\\n\", \"\\n\", \" \", \"\"]. This has the effect of trying to keep all paragraphs (and then sentences, and then words) together as long as possible, as those would generically seem to be the strongest semantically related pieces of text."
      ],
      "metadata": {
        "id": "dUZC5k3Pp92j"
      }
    },
    {
      "cell_type": "code",
      "source": [
        "# Split\n",
        "from langchain.text_splitter import RecursiveCharacterTextSplitter\n",
        "\n",
        "text_splitter = RecursiveCharacterTextSplitter(\n",
        "    chunk_size = 1000,\n",
        "    chunk_overlap = 200,\n",
        ")\n",
        "splits = text_splitter.split_documents(blog_docs)"
      ],
      "metadata": {
        "id": "tCRzXExip7hm"
      },
      "execution_count": null,
      "outputs": []
    },
    {
      "cell_type": "markdown",
      "source": [
        "* Vectorstores"
      ],
      "metadata": {
        "id": "PYOHc85Fqe_3"
      }
    },
    {
      "cell_type": "code",
      "source": [
        "# Index\n",
        "from langchain_openai import OpenAIEmbeddings\n",
        "from langchain_community.vectorstores import Chroma\n",
        "\n",
        "vectorstors = Chroma.from_documents(splits, embedding = OpenAIEmbeddings())\n",
        "\n",
        "retriever = vectorstors.as_retriever()"
      ],
      "metadata": {
        "id": "Uq6va-27qgSM"
      },
      "execution_count": null,
      "outputs": []
    },
    {
      "cell_type": "markdown",
      "source": [
        "# Part-3 : Retrieval"
      ],
      "metadata": {
        "id": "gG0B6L7_q7bp"
      }
    },
    {
      "cell_type": "code",
      "source": [
        "# Index\n",
        "from langchain_openai import OpenAIEmbeddings\n",
        "from langchain_community.vectorstores import Chroma\n",
        "\n",
        "vectorstor = Chroma.from_documents(documents = splits,\n",
        "                                    embedding = OpenAIEmbeddings())\n",
        "\n",
        "retriever = vectorstor.as_retriever(search_kwargs = {\"k\": 4})"
      ],
      "metadata": {
        "id": "jQOTM1dpq_Py"
      },
      "execution_count": null,
      "outputs": []
    },
    {
      "cell_type": "code",
      "source": [
        "# relevant douments search\n",
        "docs = retriever.get_relevant_documents(\"What is Task Decomposition?\")\n",
        "display(len(docs))"
      ],
      "metadata": {
        "id": "ItTOxHBErfjg"
      },
      "execution_count": null,
      "outputs": []
    },
    {
      "cell_type": "markdown",
      "source": [
        "Part 4 : Generation"
      ],
      "metadata": {
        "id": "g8XD4GsbslY2"
      }
    },
    {
      "cell_type": "code",
      "source": [
        "from langchain_openai import ChatOpenAI\n",
        "from langchain.prompts import ChatPromptTemplate\n",
        "\n",
        "# Prompt\n",
        "template = \"\"\"\n",
        "Answer the question based only on the following context:\n",
        "{context}\n",
        "\n",
        "Question: {question}\n",
        "\"\"\"\n",
        "\n",
        "prompt = ChatPromptTemplate.from_template(template)\n",
        "prompt"
      ],
      "metadata": {
        "id": "v97dMtWmrs1E"
      },
      "execution_count": null,
      "outputs": []
    },
    {
      "cell_type": "code",
      "source": [
        "# LLM\n",
        "llm = ChatOpenAI(model_name = \"gpt-3.5-turbo\",\n",
        "                 temperature = 0.2,\n",
        "                 top_p = 0.7)\n",
        "\n",
        "# RAG pipeline Chain\n",
        "chain = prompt | llm\n",
        "\n",
        "# Run\n",
        "question = \"What is Task Decomposition?\"\n",
        "chain.invoke({\"context\": docs, \"question\": question})"
      ],
      "metadata": {
        "id": "8ANh9hVOtENV"
      },
      "execution_count": null,
      "outputs": []
    },
    {
      "cell_type": "code",
      "source": [
        "from langchain import hub\n",
        "\n",
        "# Prompt\n",
        "prompt_hub_rag = hub.pull(\"rlm/rag-prompt\")\n",
        "\n",
        "display(prompt_hub_rag)"
      ],
      "metadata": {
        "id": "yZORWYdJtWWp"
      },
      "execution_count": null,
      "outputs": []
    },
    {
      "cell_type": "markdown",
      "source": [
        "* [RAG Cains](https://python.langchain.com/docs/how_to/sequence/)"
      ],
      "metadata": {
        "id": "hZHr7omRt1n0"
      }
    },
    {
      "cell_type": "code",
      "source": [
        "from langchain_core.output_parsers import StrOutputParser\n",
        "from langchain_core.runnables import RunnablePassthrough\n",
        "\n",
        "rag_chain = (\n",
        "    {\"context\": retriever | format_docs, \"question\":\n",
        "      RunnablePassthrough()}\n",
        "    | prompt_hub_rag\n",
        "    | llm\n",
        "    | StrOutputParser()\n",
        ")\n",
        "\n",
        "Markdown(rag_chain.invoke(\"What are the approaches to Task Decomposition?\"))"
      ],
      "metadata": {
        "id": "5DQooBnCtd1n"
      },
      "execution_count": null,
      "outputs": []
    }
  ]
}