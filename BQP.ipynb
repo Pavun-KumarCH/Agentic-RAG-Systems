{
  "nbformat": 4,
  "nbformat_minor": 0,
  "metadata": {
    "colab": {
      "provenance": [],
      "authorship_tag": "ABX9TyOzKD3znfICVgBTR2WH8S+s",
      "include_colab_link": true
    },
    "kernelspec": {
      "name": "python3",
      "display_name": "Python 3"
    },
    "language_info": {
      "name": "python"
    }
  },
  "cells": [
    {
      "cell_type": "markdown",
      "metadata": {
        "id": "view-in-github",
        "colab_type": "text"
      },
      "source": [
        "<a href=\"https://colab.research.google.com/github/Pavun-KumarCH/Agentic-RAG-Systems/blob/main/BQP.ipynb\" target=\"_parent\"><img src=\"https://colab.research.google.com/assets/colab-badge.svg\" alt=\"Open In Colab\"/></a>"
      ]
    },
    {
      "cell_type": "code",
      "source": [
        "#@title requirements\n",
        "%pip install --q langchain_groq langchain_core"
      ],
      "metadata": {
        "id": "W8JAfyqxr05y"
      },
      "execution_count": 27,
      "outputs": []
    },
    {
      "cell_type": "code",
      "execution_count": 28,
      "metadata": {
        "id": "7Rmi_arDl9pQ"
      },
      "outputs": [],
      "source": [
        "#@title Libraries\n",
        "import os, time, queue, threading\n",
        "from typing import List, Dict\n",
        "from datetime import datetime\n",
        "from langchain_core.prompts import PromptTemplate\n",
        "from langchain_groq import ChatGroq\n",
        "\n",
        "# Environment\n",
        "from google.colab import userdata\n",
        "os.environ['GROQ_API_KEY'] = userdata.get('GROQ_API_KEY')"
      ]
    },
    {
      "cell_type": "code",
      "source": [
        "#@title Initializing Mistral:7B Model\n",
        "\n",
        "llm = ChatGroq(\n",
        "  model = \"gemma2-9b-it\",\n",
        "  temperature = 0.4,\n",
        "  max_tokens = None,\n",
        "  timeout = None,\n",
        "  max_retries = 2\n",
        ")"
      ],
      "metadata": {
        "id": "eEyeqcpPnBME"
      },
      "execution_count": 29,
      "outputs": []
    },
    {
      "cell_type": "code",
      "source": [
        "#@title Prompt Template for Technical Support Bot\n",
        "prompt_template = \"\"\"Tech Support Conversation:\n",
        "{conversation}\n",
        "AI: You are a chatbot simulating a technical support representative, providing clear, concise guidance to users with technical issues.\n",
        "\"\"\"\n",
        "# PromptTemplate Instance\n",
        "chat_prompt = PromptTemplate(\n",
        "  template = prompt_template,\n",
        "  input_variables = [\"conversation\"]\n",
        ")"
      ],
      "metadata": {
        "id": "5tTDD2YgnlPD"
      },
      "execution_count": 32,
      "outputs": []
    },
    {
      "cell_type": "code",
      "source": [
        "#@title Class Batch Processor\n",
        "class BatchProcessor:\n",
        "  def __init__(self, processor_id: int, batch_size: int, batch_interval: float):\n",
        "    self.processor_id = processor_id\n",
        "    self.batch_size = batch_size\n",
        "    self.batch_interval = batch_interval\n",
        "    self.request_queue = queue.Queue()\n",
        "    self.lock = threading.Lock()\n",
        "    self._stop_event = threading.Event()\n",
        "    self.worker_thread = None\n",
        "\n",
        "# Start Batching\n",
        "  def start_batching(self):\n",
        "    if self.worker_thread is None or not self.worker_thread.is_alive():\n",
        "      self._stop_event.clear()\n",
        "      self.worker_thread = threading.Thread(target = self.batch_worker)\n",
        "      self.worker_thread.start()\n",
        "      print(f\"Batch processor {self.processor_id} started batching.\")\n",
        "\n",
        "# Add Request\n",
        "  def add_request(self, request_data: Dict[str, str]):\n",
        "    self.request_queue.put(request_data)\n",
        "    print(f\"{request_data}Request added to processor {self.processor_id}.\")\n",
        "\n",
        "# Process Batch\n",
        "  def process_batch_with_langchain(self, batch: List[Dict[str, str]]):\n",
        "    formatted_prompts = [\n",
        "        chat_prompt.format(conversation = \"\\n\".join(f\"{item['role'].capitalize()}: {item['content']}\" for item in [request]))\n",
        "        for request in batch\n",
        "    ]\n",
        "\n",
        "    # Batch Method\n",
        "    responses = llm.batch(formatted_prompts)\n",
        "    for response in responses:\n",
        "      print(f\"Response from processor {self.processor_id}: {response}\")\n",
        "      print(response, \"\\n\")\n",
        "\n",
        "# Batch Worker\n",
        "  def batch_worker(self):\n",
        "    while not self._stop_event.is_set():\n",
        "      batch = []\n",
        "      start_time = time.time()\n",
        "      while len(batch) < self.batch_size and (time.time() - start_time) < self.batch_interval:\n",
        "        try:\n",
        "          request_data = self.request_queue.get(timeout = self.batch_interval - (time.time() - start_time))\n",
        "          batch.append(request_data)\n",
        "          self.request_queue.task_done()\n",
        "        except queue.Empty:\n",
        "          break\n",
        "\n",
        "      if batch:\n",
        "        print(f\"Processor {self.processor_id} - Processing batch of size {len(batch)}\")\n",
        "        with self.lock:\n",
        "          self.process_batch_with_langchain(batch)\n",
        "        print(f\"Processor {self.processor_id} - Batch processor complete.\\n\")\n",
        "      else:\n",
        "        print(f\"Processor {self.processor_id} - No requests  to process in the cycle.\")\n",
        "\n",
        "\n",
        "# Stop Batching\n",
        "  def stop_batching(self):\n",
        "    self._stop_event.set()\n",
        "    if self.worker_thread:\n",
        "      self.worker_thread.join()\n",
        "      self.worker_thread = None\n",
        "      print(f\"Batch processor {self.processor_id} stopped batching.\")"
      ],
      "metadata": {
        "id": "k6ZgoeTDoZb_"
      },
      "execution_count": 23,
      "outputs": []
    },
    {
      "cell_type": "code",
      "source": [
        "#@title Class Load Balancer -> round robin distribution\n",
        "class LoadBalancer:\n",
        "  def __init__(self, processors:List['BatchProcessor']):\n",
        "    self.processors = processors\n",
        "    self.current_processor_index = 0\n",
        "\n",
        "  def distribute_request(self, request_data: Dict[str, str]):\n",
        "    processor = self.processors[self.current_processor_index]\n",
        "    processor.add_request(request_data)\n",
        "    self.current_processor_index = (self.current_processor_index + 1) % len(self.processors)\n",
        "\n",
        "# Chat Interactions as Incoming Requests\n",
        "chat_interactions = [\n",
        "    {\"role\": \"user\", \"content\": \"Hi, I'm having trouble installing the software on my computer.\"},\n",
        "    {\"role\": \"user\", \"content\": \"My application keeps crashing. Any advice on fixing this?\"},\n",
        "    {\"role\": \"user\", \"content\": \"How do I reset my account password?\"},\n",
        "    {\"role\": \"user\", \"content\": \"The update process seems stuck. What should I do?\"},\n",
        "    {\"role\": \"user\", \"content\": \"Is there a way to recover deleted files in the program?\"},\n",
        "    {\"role\": \"user\", \"content\": \"How can I clear the cache to improve app performance?\"},\n",
        "    {\"role\": \"user\", \"content\": \"I'm getting an error code when I try to launch the app.\"},\n",
        "    {\"role\": \"user\", \"content\": \"Can you help me troubleshoot connectivity issues with the server?\"},\n",
        "    {\"role\": \"user\", \"content\": \"The software isn't recognizing my device. What can I do?\"},\n",
        "    {\"role\": \"user\", \"content\": \"How do I configure the settings for optimal performance?\"}\n",
        "]\n",
        "\n",
        "# Initializing two batch processors\n",
        "batch_processor1 = BatchProcessor(processor_id = 1, batch_size = 2, batch_interval = 10)\n",
        "batch_processor2 = BatchProcessor(processor_id = 2, batch_size = 2, batch_interval = 10)\n",
        "\n",
        "# Initializing load balancer with processors\n",
        "load_balancer = LoadBalancer(processors = [batch_processor1, batch_processor2])\n",
        "\n",
        "# Starting batching for both processors\n",
        "batch_processor1.start_batching()\n",
        "batch_processor2.start_batching()\n",
        "\n",
        "# Adding each meassge to the load balancer with a timestamp\n",
        "for interaction in chat_interactions:\n",
        "  interaction_with_timestamp = interaction.copy()\n",
        "  interaction_with_timestamp[\"timestamp\"] = datetime.now().isoformat()\n",
        "  load_balancer.distribute_request(interaction_with_timestamp)\n",
        "  time.sleep(1)\n",
        "\n",
        "# Stopping batching for both processors\n",
        "batch_processor1.stop_batching()\n",
        "batch_processor2.stop_batching()"
      ],
      "metadata": {
        "colab": {
          "base_uri": "https://localhost:8080/"
        },
        "id": "KURQpLZqrom-",
        "outputId": "1583808f-5652-493d-d47a-d9b965886a58"
      },
      "execution_count": 33,
      "outputs": [
        {
          "output_type": "stream",
          "name": "stdout",
          "text": [
            "Batch processor 1 started batching.\n",
            "Batch processor 2 started batching.\n",
            "{'role': 'user', 'content': \"Hi, I'm having trouble installing the software on my computer.\", 'timestamp': '2024-11-11T16:57:14.104439'}Request added to processor 1.\n",
            "{'role': 'user', 'content': 'My application keeps crashing. Any advice on fixing this?', 'timestamp': '2024-11-11T16:57:15.105619'}Request added to processor 2.\n",
            "{'role': 'user', 'content': 'How do I reset my account password?', 'timestamp': '2024-11-11T16:57:16.106831'}Request added to processor 1.Processor 1 - Processing batch of size 2\n",
            "\n",
            "Response from processor 1: content=\"AI:  I'm sorry to hear you're having trouble installing the software. I'm here to help!  \\n\\nTo get started, can you tell me:\\n\\n* **What is the name of the software you're trying to install?**\\n* **What operating system are you using (Windows, Mac, etc.)?**\\n* **What specific error message are you seeing, if any?**\\n\\n\\nThe more information you can give me, the better I can assist you.  \\n\\n\" additional_kwargs={} response_metadata={'token_usage': {'completion_tokens': 108, 'prompt_tokens': 55, 'total_tokens': 163, 'completion_time': 0.196363636, 'prompt_time': 0.001801594, 'queue_time': 0.014453425999999998, 'total_time': 0.19816523}, 'model_name': 'gemma2-9b-it', 'system_fingerprint': 'fp_10c08bf97d', 'finish_reason': 'stop', 'logprobs': None} id='run-33cbf097-9577-4cf3-a390-ec1d2cbf6396-0' usage_metadata={'input_tokens': 55, 'output_tokens': 108, 'total_tokens': 163}\n",
            "content=\"AI:  I'm sorry to hear you're having trouble installing the software. I'm here to help!  \\n\\nTo get started, can you tell me:\\n\\n* **What is the name of the software you're trying to install?**\\n* **What operating system are you using (Windows, Mac, etc.)?**\\n* **What specific error message are you seeing, if any?**\\n\\n\\nThe more information you can give me, the better I can assist you.  \\n\\n\" additional_kwargs={} response_metadata={'token_usage': {'completion_tokens': 108, 'prompt_tokens': 55, 'total_tokens': 163, 'completion_time': 0.196363636, 'prompt_time': 0.001801594, 'queue_time': 0.014453425999999998, 'total_time': 0.19816523}, 'model_name': 'gemma2-9b-it', 'system_fingerprint': 'fp_10c08bf97d', 'finish_reason': 'stop', 'logprobs': None} id='run-33cbf097-9577-4cf3-a390-ec1d2cbf6396-0' usage_metadata={'input_tokens': 55, 'output_tokens': 108, 'total_tokens': 163} \n",
            "\n",
            "Response from processor 1: content='I can definitely help you with that! \\n\\nTo reset your account password, please follow these steps:\\n\\n1. **Go to the login page** for your account.\\n2. **Click on the \"Forgot Password\" or \"Reset Password\" link.** This is usually located below the password field.\\n3. **Enter the email address associated with your account.**\\n4. **You will receive an email with a link to reset your password.** Click on this link.\\n5. **Follow the instructions in the email to create a new password.** Make sure to choose a strong password that is at least 8 characters long and includes a mix of upper and lowercase letters, numbers, and symbols.\\n\\nIf you don\\'t receive the email, please check your spam folder. If you still can\\'t reset your password, please contact our customer support team for further assistance. \\n\\n\\nLet me know if you have any other questions! \\n\\n' additional_kwargs={} response_metadata={'token_usage': {'completion_tokens': 196, 'prompt_tokens': 49, 'total_tokens': 245, 'completion_time': 0.356363636, 'prompt_time': 0.001617934, 'queue_time': 0.021265356, 'total_time': 0.35798157}, 'model_name': 'gemma2-9b-it', 'system_fingerprint': 'fp_10c08bf97d', 'finish_reason': 'stop', 'logprobs': None} id='run-6c547a60-5e1f-41c8-8a4f-09448bbe21f8-0' usage_metadata={'input_tokens': 49, 'output_tokens': 196, 'total_tokens': 245}\n",
            "content='I can definitely help you with that! \\n\\nTo reset your account password, please follow these steps:\\n\\n1. **Go to the login page** for your account.\\n2. **Click on the \"Forgot Password\" or \"Reset Password\" link.** This is usually located below the password field.\\n3. **Enter the email address associated with your account.**\\n4. **You will receive an email with a link to reset your password.** Click on this link.\\n5. **Follow the instructions in the email to create a new password.** Make sure to choose a strong password that is at least 8 characters long and includes a mix of upper and lowercase letters, numbers, and symbols.\\n\\nIf you don\\'t receive the email, please check your spam folder. If you still can\\'t reset your password, please contact our customer support team for further assistance. \\n\\n\\nLet me know if you have any other questions! \\n\\n' additional_kwargs={} response_metadata={'token_usage': {'completion_tokens': 196, 'prompt_tokens': 49, 'total_tokens': 245, 'completion_time': 0.356363636, 'prompt_time': 0.001617934, 'queue_time': 0.021265356, 'total_time': 0.35798157}, 'model_name': 'gemma2-9b-it', 'system_fingerprint': 'fp_10c08bf97d', 'finish_reason': 'stop', 'logprobs': None} id='run-6c547a60-5e1f-41c8-8a4f-09448bbe21f8-0' usage_metadata={'input_tokens': 49, 'output_tokens': 196, 'total_tokens': 245} \n",
            "\n",
            "Processor 1 - Batch processor complete.\n",
            "\n",
            "{'role': 'user', 'content': 'The update process seems stuck. What should I do?', 'timestamp': '2024-11-11T16:57:17.112822'}Request added to processor 2.Processor 2 - Processing batch of size 2\n",
            "\n",
            "Response from processor 2: content=\"I understand your application is crashing.  To help me figure out what's going on, could you tell me:\\n\\n* **What application is crashing?**\\n* **What operating system are you using?** (Windows, Mac, iOS, Android, etc.)\\n* **When did the crashing start?** (Did anything change before it started?)\\n* **Can you describe what happens when it crashes?** (Does it freeze, give an error message, etc.?) \\n\\n\\nThe more information you can give me, the better I can assist you in finding a solution. \\n\\n\" additional_kwargs={} response_metadata={'token_usage': {'completion_tokens': 125, 'prompt_tokens': 52, 'total_tokens': 177, 'completion_time': 0.227272727, 'prompt_time': 0.001744354, 'queue_time': 0.020124604, 'total_time': 0.229017081}, 'model_name': 'gemma2-9b-it', 'system_fingerprint': 'fp_10c08bf97d', 'finish_reason': 'stop', 'logprobs': None} id='run-ebb4220f-fe91-4439-acaa-01d724f203fd-0' usage_metadata={'input_tokens': 52, 'output_tokens': 125, 'total_tokens': 177}\n",
            "content=\"I understand your application is crashing.  To help me figure out what's going on, could you tell me:\\n\\n* **What application is crashing?**\\n* **What operating system are you using?** (Windows, Mac, iOS, Android, etc.)\\n* **When did the crashing start?** (Did anything change before it started?)\\n* **Can you describe what happens when it crashes?** (Does it freeze, give an error message, etc.?) \\n\\n\\nThe more information you can give me, the better I can assist you in finding a solution. \\n\\n\" additional_kwargs={} response_metadata={'token_usage': {'completion_tokens': 125, 'prompt_tokens': 52, 'total_tokens': 177, 'completion_time': 0.227272727, 'prompt_time': 0.001744354, 'queue_time': 0.020124604, 'total_time': 0.229017081}, 'model_name': 'gemma2-9b-it', 'system_fingerprint': 'fp_10c08bf97d', 'finish_reason': 'stop', 'logprobs': None} id='run-ebb4220f-fe91-4439-acaa-01d724f203fd-0' usage_metadata={'input_tokens': 52, 'output_tokens': 125, 'total_tokens': 177} \n",
            "\n",
            "Response from processor 2: content=\"I understand you're having trouble with the update process.  \\n\\nLet's try a few things to get it moving:\\n\\n1. **Check your internet connection:**  Make sure you have a stable internet connection. \\n2. **Close other programs:**  This can free up resources and help the update process complete.\\n3. **Restart your device:**  Sometimes a simple restart can resolve temporary issues.\\n\\nIf the problem persists after these steps, please provide me with the following information so I can assist you further:\\n\\n* **What device are you using?** (e.g., Windows PC, Mac, iPhone, Android)\\n* **What type of update are you trying to install?** (e.g., operating system, software application)\\n* **What error messages, if any, are you seeing?**\\n\\n\\nI'm here to help you get this update installed successfully.  \\n\\n\" additional_kwargs={} response_metadata={'token_usage': {'completion_tokens': 191, 'prompt_tokens': 52, 'total_tokens': 243, 'completion_time': 0.347272727, 'prompt_time': 0.001863403, 'queue_time': 0.012540285, 'total_time': 0.34913613}, 'model_name': 'gemma2-9b-it', 'system_fingerprint': 'fp_10c08bf97d', 'finish_reason': 'stop', 'logprobs': None} id='run-9a624a28-8656-4b54-9bad-3e3b7ff82382-0' usage_metadata={'input_tokens': 52, 'output_tokens': 191, 'total_tokens': 243}\n",
            "content=\"I understand you're having trouble with the update process.  \\n\\nLet's try a few things to get it moving:\\n\\n1. **Check your internet connection:**  Make sure you have a stable internet connection. \\n2. **Close other programs:**  This can free up resources and help the update process complete.\\n3. **Restart your device:**  Sometimes a simple restart can resolve temporary issues.\\n\\nIf the problem persists after these steps, please provide me with the following information so I can assist you further:\\n\\n* **What device are you using?** (e.g., Windows PC, Mac, iPhone, Android)\\n* **What type of update are you trying to install?** (e.g., operating system, software application)\\n* **What error messages, if any, are you seeing?**\\n\\n\\nI'm here to help you get this update installed successfully.  \\n\\n\" additional_kwargs={} response_metadata={'token_usage': {'completion_tokens': 191, 'prompt_tokens': 52, 'total_tokens': 243, 'completion_time': 0.347272727, 'prompt_time': 0.001863403, 'queue_time': 0.012540285, 'total_time': 0.34913613}, 'model_name': 'gemma2-9b-it', 'system_fingerprint': 'fp_10c08bf97d', 'finish_reason': 'stop', 'logprobs': None} id='run-9a624a28-8656-4b54-9bad-3e3b7ff82382-0' usage_metadata={'input_tokens': 52, 'output_tokens': 191, 'total_tokens': 243} \n",
            "\n",
            "Processor 2 - Batch processor complete.\n",
            "\n",
            "{'role': 'user', 'content': 'Is there a way to recover deleted files in the program?', 'timestamp': '2024-11-11T16:57:18.113839'}Request added to processor 1.\n",
            "{'role': 'user', 'content': 'How can I clear the cache to improve app performance?', 'timestamp': '2024-11-11T16:57:19.114827'}Request added to processor 2.\n",
            "{'role': 'user', 'content': \"I'm getting an error code when I try to launch the app.\", 'timestamp': '2024-11-11T16:57:20.116089'}Request added to processor 1.Processor 1 - Processing batch of size 2\n",
            "\n",
            "Response from processor 1: content='I understand you\\'re looking to recover deleted files. \\n\\nUnfortunately, as a text-based AI, I don\\'t have access to your files or the program\\'s functionality. \\n\\nTo help you best, could you please tell me:\\n\\n* **What program are you using?** Different programs have different ways of handling deleted files.\\n* **How were the files deleted?** (e.g., accidentally, using the \"delete\" key, emptied the recycle bin) \\n\\nKnowing this information will help me guide you to the right resources or steps. \\n\\n\\n\\n' additional_kwargs={} response_metadata={'token_usage': {'completion_tokens': 122, 'prompt_tokens': 53, 'total_tokens': 175, 'completion_time': 0.221818182, 'prompt_time': 0.001831514, 'queue_time': 0.021343794, 'total_time': 0.223649696}, 'model_name': 'gemma2-9b-it', 'system_fingerprint': 'fp_10c08bf97d', 'finish_reason': 'stop', 'logprobs': None} id='run-c1958a2f-20b7-4414-b41d-a448b55e3412-0' usage_metadata={'input_tokens': 53, 'output_tokens': 122, 'total_tokens': 175}\n",
            "content='I understand you\\'re looking to recover deleted files. \\n\\nUnfortunately, as a text-based AI, I don\\'t have access to your files or the program\\'s functionality. \\n\\nTo help you best, could you please tell me:\\n\\n* **What program are you using?** Different programs have different ways of handling deleted files.\\n* **How were the files deleted?** (e.g., accidentally, using the \"delete\" key, emptied the recycle bin) \\n\\nKnowing this information will help me guide you to the right resources or steps. \\n\\n\\n\\n' additional_kwargs={} response_metadata={'token_usage': {'completion_tokens': 122, 'prompt_tokens': 53, 'total_tokens': 175, 'completion_time': 0.221818182, 'prompt_time': 0.001831514, 'queue_time': 0.021343794, 'total_time': 0.223649696}, 'model_name': 'gemma2-9b-it', 'system_fingerprint': 'fp_10c08bf97d', 'finish_reason': 'stop', 'logprobs': None} id='run-c1958a2f-20b7-4414-b41d-a448b55e3412-0' usage_metadata={'input_tokens': 53, 'output_tokens': 122, 'total_tokens': 175} \n",
            "\n",
            "Response from processor 1: content=\"Okay, I can help with that.  \\n\\nCan you please tell me:\\n\\n1. **What is the exact error code you're seeing?**\\n2. **What app are you trying to launch?**\\n3. **What operating system are you using (Windows, Mac, iOS, Android)?**\\n\\n\\nThe more information you can give me, the better I can assist you in resolving the issue.  \\n\\n\" additional_kwargs={} response_metadata={'token_usage': {'completion_tokens': 90, 'prompt_tokens': 56, 'total_tokens': 146, 'completion_time': 0.163636364, 'prompt_time': 0.002047843, 'queue_time': 0.014047355000000001, 'total_time': 0.165684207}, 'model_name': 'gemma2-9b-it', 'system_fingerprint': 'fp_10c08bf97d', 'finish_reason': 'stop', 'logprobs': None} id='run-fcb39752-7777-4e54-bd00-4e34e7208ebf-0' usage_metadata={'input_tokens': 56, 'output_tokens': 90, 'total_tokens': 146}\n",
            "content=\"Okay, I can help with that.  \\n\\nCan you please tell me:\\n\\n1. **What is the exact error code you're seeing?**\\n2. **What app are you trying to launch?**\\n3. **What operating system are you using (Windows, Mac, iOS, Android)?**\\n\\n\\nThe more information you can give me, the better I can assist you in resolving the issue.  \\n\\n\" additional_kwargs={} response_metadata={'token_usage': {'completion_tokens': 90, 'prompt_tokens': 56, 'total_tokens': 146, 'completion_time': 0.163636364, 'prompt_time': 0.002047843, 'queue_time': 0.014047355000000001, 'total_time': 0.165684207}, 'model_name': 'gemma2-9b-it', 'system_fingerprint': 'fp_10c08bf97d', 'finish_reason': 'stop', 'logprobs': None} id='run-fcb39752-7777-4e54-bd00-4e34e7208ebf-0' usage_metadata={'input_tokens': 56, 'output_tokens': 90, 'total_tokens': 146} \n",
            "\n",
            "Processor 1 - Batch processor complete.\n",
            "\n",
            "{'role': 'user', 'content': 'Can you help me troubleshoot connectivity issues with the server?', 'timestamp': '2024-11-11T16:57:21.117822'}Request added to processor 2.Processor 2 - Processing batch of size 2\n",
            "\n",
            "Response from processor 2: content='I can definitely help you with that! Clearing the cache can often boost app performance. \\n\\nTo do this, you\\'ll need to go to your device\\'s settings. \\n\\n* **On Android:** Look for \"Apps & notifications\" then select the specific app you want to clear the cache for. Tap on \"Storage & cache\" and choose \"Clear cache.\"\\n* **On iPhone:**  Unfortunately, iPhones don\\'t have a dedicated \"cache\" like Android.  Clearing the app\\'s data usually achieves a similar result. Go to \"Settings\" > \"General\" > \"iPhone Storage\" and select the app. Tap \"Offload App\" or \"Delete App\" and then reinstall it.\\n\\nLet me know if you have any trouble finding these settings or if you have any other questions! \\n\\n\\n\\n' additional_kwargs={} response_metadata={'token_usage': {'completion_tokens': 171, 'prompt_tokens': 52, 'total_tokens': 223, 'completion_time': 0.310909091, 'prompt_time': 0.001637394, 'queue_time': 0.020095274, 'total_time': 0.312546485}, 'model_name': 'gemma2-9b-it', 'system_fingerprint': 'fp_10c08bf97d', 'finish_reason': 'stop', 'logprobs': None} id='run-7d5be08b-2bdd-400d-9786-db02679382ca-0' usage_metadata={'input_tokens': 52, 'output_tokens': 171, 'total_tokens': 223}\n",
            "content='I can definitely help you with that! Clearing the cache can often boost app performance. \\n\\nTo do this, you\\'ll need to go to your device\\'s settings. \\n\\n* **On Android:** Look for \"Apps & notifications\" then select the specific app you want to clear the cache for. Tap on \"Storage & cache\" and choose \"Clear cache.\"\\n* **On iPhone:**  Unfortunately, iPhones don\\'t have a dedicated \"cache\" like Android.  Clearing the app\\'s data usually achieves a similar result. Go to \"Settings\" > \"General\" > \"iPhone Storage\" and select the app. Tap \"Offload App\" or \"Delete App\" and then reinstall it.\\n\\nLet me know if you have any trouble finding these settings or if you have any other questions! \\n\\n\\n\\n' additional_kwargs={} response_metadata={'token_usage': {'completion_tokens': 171, 'prompt_tokens': 52, 'total_tokens': 223, 'completion_time': 0.310909091, 'prompt_time': 0.001637394, 'queue_time': 0.020095274, 'total_time': 0.312546485}, 'model_name': 'gemma2-9b-it', 'system_fingerprint': 'fp_10c08bf97d', 'finish_reason': 'stop', 'logprobs': None} id='run-7d5be08b-2bdd-400d-9786-db02679382ca-0' usage_metadata={'input_tokens': 52, 'output_tokens': 171, 'total_tokens': 223} \n",
            "\n",
            "Response from processor 2: content=\"I can definitely try to help! To get started, can you tell me a bit more about the connectivity issues you're experiencing? \\n\\nFor example:\\n\\n* **What type of device are you using to connect to the server?** (e.g., computer, smartphone, tablet)\\n* **What operating system are you using?** (e.g., Windows, macOS, Linux)\\n* **What specific error messages are you seeing, if any?**\\n* **Have you made any recent changes to your network or server settings?**\\n* **Are you able to connect to other servers or websites?**\\n\\n\\nThe more information you can provide, the better I can assist you in resolving the issue.  \\n\\n\" additional_kwargs={} response_metadata={'token_usage': {'completion_tokens': 153, 'prompt_tokens': 52, 'total_tokens': 205, 'completion_time': 0.278181818, 'prompt_time': 0.001884524, 'queue_time': 0.020779834, 'total_time': 0.280066342}, 'model_name': 'gemma2-9b-it', 'system_fingerprint': 'fp_10c08bf97d', 'finish_reason': 'stop', 'logprobs': None} id='run-7db63c9a-7b25-4c5a-b67d-8fbb97760b5d-0' usage_metadata={'input_tokens': 52, 'output_tokens': 153, 'total_tokens': 205}\n",
            "content=\"I can definitely try to help! To get started, can you tell me a bit more about the connectivity issues you're experiencing? \\n\\nFor example:\\n\\n* **What type of device are you using to connect to the server?** (e.g., computer, smartphone, tablet)\\n* **What operating system are you using?** (e.g., Windows, macOS, Linux)\\n* **What specific error messages are you seeing, if any?**\\n* **Have you made any recent changes to your network or server settings?**\\n* **Are you able to connect to other servers or websites?**\\n\\n\\nThe more information you can provide, the better I can assist you in resolving the issue.  \\n\\n\" additional_kwargs={} response_metadata={'token_usage': {'completion_tokens': 153, 'prompt_tokens': 52, 'total_tokens': 205, 'completion_time': 0.278181818, 'prompt_time': 0.001884524, 'queue_time': 0.020779834, 'total_time': 0.280066342}, 'model_name': 'gemma2-9b-it', 'system_fingerprint': 'fp_10c08bf97d', 'finish_reason': 'stop', 'logprobs': None} id='run-7db63c9a-7b25-4c5a-b67d-8fbb97760b5d-0' usage_metadata={'input_tokens': 52, 'output_tokens': 153, 'total_tokens': 205} \n",
            "\n",
            "Processor 2 - Batch processor complete.\n",
            "\n",
            "{'role': 'user', 'content': \"The software isn't recognizing my device. What can I do?\", 'timestamp': '2024-11-11T16:57:22.123816'}Request added to processor 1.\n",
            "{'role': 'user', 'content': 'How do I configure the settings for optimal performance?', 'timestamp': '2024-11-11T16:57:23.124833'}Request added to processor 2.\n",
            "Processor 1 - Processing batch of size 1\n",
            "Response from processor 1: content=\"I understand your device isn't being recognized by the software.  To help me troubleshoot this, could you please tell me:\\n\\n1. **What type of device is it?** (e.g., printer, scanner, webcam)\\n2. **What software are you trying to use it with?**\\n3. **Have you tried restarting both your device and your computer?**\\n4. **Are you using the latest drivers for your device?** \\n\\n\\nLet's get this sorted out!  \\n\\n\" additional_kwargs={} response_metadata={'token_usage': {'completion_tokens': 110, 'prompt_tokens': 55, 'total_tokens': 165, 'completion_time': 0.2, 'prompt_time': 0.001966223, 'queue_time': 0.015051825000000001, 'total_time': 0.201966223}, 'model_name': 'gemma2-9b-it', 'system_fingerprint': 'fp_10c08bf97d', 'finish_reason': 'stop', 'logprobs': None} id='run-affc8684-a197-41f2-9ca7-47f0b299d634-0' usage_metadata={'input_tokens': 55, 'output_tokens': 110, 'total_tokens': 165}\n",
            "content=\"I understand your device isn't being recognized by the software.  To help me troubleshoot this, could you please tell me:\\n\\n1. **What type of device is it?** (e.g., printer, scanner, webcam)\\n2. **What software are you trying to use it with?**\\n3. **Have you tried restarting both your device and your computer?**\\n4. **Are you using the latest drivers for your device?** \\n\\n\\nLet's get this sorted out!  \\n\\n\" additional_kwargs={} response_metadata={'token_usage': {'completion_tokens': 110, 'prompt_tokens': 55, 'total_tokens': 165, 'completion_time': 0.2, 'prompt_time': 0.001966223, 'queue_time': 0.015051825000000001, 'total_time': 0.201966223}, 'model_name': 'gemma2-9b-it', 'system_fingerprint': 'fp_10c08bf97d', 'finish_reason': 'stop', 'logprobs': None} id='run-affc8684-a197-41f2-9ca7-47f0b299d634-0' usage_metadata={'input_tokens': 55, 'output_tokens': 110, 'total_tokens': 165} \n",
            "\n",
            "Processor 1 - Batch processor complete.\n",
            "\n",
            "Batch processor 1 stopped batching.\n",
            "Processor 2 - Processing batch of size 1\n",
            "Response from processor 2: content='\"I can definitely help with that! To give you the best advice, could you tell me:\\n\\n* **What device or software are you using?** (e.g., laptop, smartphone, specific program)\\n* **What are you primarily using it for?** (e.g., gaming, video editing, general browsing)\\n\\nKnowing this will help me pinpoint the most important settings to adjust for optimal performance.\" \\n\\n\\n\\n' additional_kwargs={} response_metadata={'token_usage': {'completion_tokens': 91, 'prompt_tokens': 51, 'total_tokens': 142, 'completion_time': 0.165454545, 'prompt_time': 0.001832563, 'queue_time': 0.017596905, 'total_time': 0.167287108}, 'model_name': 'gemma2-9b-it', 'system_fingerprint': 'fp_10c08bf97d', 'finish_reason': 'stop', 'logprobs': None} id='run-8a28ce90-8299-4733-9b13-88a2f6691805-0' usage_metadata={'input_tokens': 51, 'output_tokens': 91, 'total_tokens': 142}\n",
            "content='\"I can definitely help with that! To give you the best advice, could you tell me:\\n\\n* **What device or software are you using?** (e.g., laptop, smartphone, specific program)\\n* **What are you primarily using it for?** (e.g., gaming, video editing, general browsing)\\n\\nKnowing this will help me pinpoint the most important settings to adjust for optimal performance.\" \\n\\n\\n\\n' additional_kwargs={} response_metadata={'token_usage': {'completion_tokens': 91, 'prompt_tokens': 51, 'total_tokens': 142, 'completion_time': 0.165454545, 'prompt_time': 0.001832563, 'queue_time': 0.017596905, 'total_time': 0.167287108}, 'model_name': 'gemma2-9b-it', 'system_fingerprint': 'fp_10c08bf97d', 'finish_reason': 'stop', 'logprobs': None} id='run-8a28ce90-8299-4733-9b13-88a2f6691805-0' usage_metadata={'input_tokens': 51, 'output_tokens': 91, 'total_tokens': 142} \n",
            "\n",
            "Processor 2 - Batch processor complete.\n",
            "\n",
            "Batch processor 2 stopped batching.\n"
          ]
        }
      ]
    }
  ]
}